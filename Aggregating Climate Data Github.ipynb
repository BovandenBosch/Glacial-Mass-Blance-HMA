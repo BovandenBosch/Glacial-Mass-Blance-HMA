{
 "cells": [
  {
   "cell_type": "markdown",
   "id": "a7c62021",
   "metadata": {},
   "source": [
    "# aggreation of climate data "
   ]
  },
  {
   "cell_type": "code",
   "execution_count": 3,
   "id": "94edc550",
   "metadata": {},
   "outputs": [],
   "source": [
    "import pandas as pd\n",
    "import numpy as np\n",
    "import geopandas as gpd\n",
    "import matplotlib.pyplot as plt"
   ]
  },
  {
   "cell_type": "code",
   "execution_count": 4,
   "id": "6d56bbf4",
   "metadata": {},
   "outputs": [],
   "source": [
    "df = pd.read_csv('/Users/bovandenbosch/Documents/Master_Applied Data_Science/Thesis/Data/data_frame_O2')\n",
    "df = df.iloc[: , 1:]"
   ]
  },
  {
   "cell_type": "code",
   "execution_count": 5,
   "id": "d7d66ff5",
   "metadata": {},
   "outputs": [],
   "source": [
    "rgi13 = gpd.read_file('/Users/bovandenbosch/Documents/Master_Applied Data_Science/Thesis/Data/RGI/nsidc0770_13_rgi60_CentralAsia/13_rgi60_CentralAsia.shp')\n",
    "rgi14 = gpd.read_file('/Users/bovandenbosch/Documents/Master_Applied Data_Science/Thesis/Data/RGI/nsidc0770_14_rgi60_SouthAsiaWest/14_rgi60_SouthAsiaWest.shp')\n",
    "rgi15 = gpd.read_file('/Users/bovandenbosch/Documents/Master_Applied Data_Science/Thesis/Data/RGI/nsidc0770_15_rgi60_SouthAsiaEast/15_rgi60_SouthAsiaEast.shp')"
   ]
  },
  {
   "cell_type": "code",
   "execution_count": 6,
   "id": "aa6e774a",
   "metadata": {},
   "outputs": [],
   "source": [
    "rgi_concat = pd.concat([rgi13,rgi14,rgi15],ignore_index=True)"
   ]
  },
  {
   "cell_type": "code",
   "execution_count": 7,
   "id": "f501a62b",
   "metadata": {},
   "outputs": [],
   "source": [
    "rgi_concat = rgi_concat.rename(columns={\"RGIId\": \"rgi_id\"})\n",
    "rgi_concat = rgi_concat[['rgi_id','Area']]"
   ]
  },
  {
   "cell_type": "code",
   "execution_count": 8,
   "id": "6d7d13c6",
   "metadata": {},
   "outputs": [],
   "source": [
    "huggonet_dat = pd.read_csv('/Users/bovandenbosch/Documents/Master_Applied Data_Science/Thesis/Data/hugonnet_2021_ds_rgi60_pergla_rates_10_20_worldwide.csv')"
   ]
  },
  {
   "cell_type": "code",
   "execution_count": 9,
   "id": "4e92d6b9",
   "metadata": {},
   "outputs": [],
   "source": [
    "pd.set_option('display.max_columns', None)"
   ]
  },
  {
   "cell_type": "code",
   "execution_count": 17,
   "id": "8b6d08a8",
   "metadata": {},
   "outputs": [],
   "source": [
    "rgi_concat = pd.concat([rgi13,rgi14,rgi15],ignore_index=True)\n",
    "rgi_concat = rgi_concat.rename(columns={\"RGIId\": \"rgi_id\"})\n",
    "rgi = rgi_concat[['rgi_id','Slope','Aspect','Lmax','Area','Zmax','Zmin','Zmed']]\n",
    "rgi_df = pd.DataFrame(rgi)"
   ]
  },
  {
   "cell_type": "markdown",
   "id": "e22085b3",
   "metadata": {},
   "source": [
    "# Select only glacier groter dan 2km2"
   ]
  },
  {
   "cell_type": "code",
   "execution_count": 12,
   "id": "87e32263",
   "metadata": {},
   "outputs": [
    {
     "data": {
      "text/html": [
       "<div>\n",
       "<style scoped>\n",
       "    .dataframe tbody tr th:only-of-type {\n",
       "        vertical-align: middle;\n",
       "    }\n",
       "\n",
       "    .dataframe tbody tr th {\n",
       "        vertical-align: top;\n",
       "    }\n",
       "\n",
       "    .dataframe thead th {\n",
       "        text-align: right;\n",
       "    }\n",
       "</style>\n",
       "<table border=\"1\" class=\"dataframe\">\n",
       "  <thead>\n",
       "    <tr style=\"text-align: right;\">\n",
       "      <th></th>\n",
       "      <th>rgi_id</th>\n",
       "      <th>period</th>\n",
       "      <th>dmdtda</th>\n",
       "      <th>dvoldt</th>\n",
       "      <th>dhdt</th>\n",
       "      <th>prcp</th>\n",
       "      <th>temp</th>\n",
       "      <th>tstar_aar</th>\n",
       "      <th>tstar_ela_h</th>\n",
       "      <th>O2Region</th>\n",
       "      <th>Slope</th>\n",
       "      <th>Aspect</th>\n",
       "      <th>Lmax</th>\n",
       "      <th>Area</th>\n",
       "      <th>Zmax</th>\n",
       "      <th>Zmin</th>\n",
       "      <th>Zmed</th>\n",
       "      <th>ice_thickness</th>\n",
       "      <th>glacial_lake</th>\n",
       "      <th>debris_vol_ela_p</th>\n",
       "      <th>debris_area_ela_p</th>\n",
       "    </tr>\n",
       "  </thead>\n",
       "  <tbody>\n",
       "    <tr>\n",
       "      <th>0</th>\n",
       "      <td>RGI60-13.00062</td>\n",
       "      <td>2000-01-01_2010-01-01</td>\n",
       "      <td>0.2511</td>\n",
       "      <td>656305.0</td>\n",
       "      <td>0.2954</td>\n",
       "      <td>2662.2944</td>\n",
       "      <td>-13.254577</td>\n",
       "      <td>0.622839</td>\n",
       "      <td>5777.281395</td>\n",
       "      <td>5</td>\n",
       "      <td>21.5</td>\n",
       "      <td>358.0</td>\n",
       "      <td>1532.0</td>\n",
       "      <td>2.222</td>\n",
       "      <td>6011.0</td>\n",
       "      <td>5417.0</td>\n",
       "      <td>5839.0</td>\n",
       "      <td>47.280240</td>\n",
       "      <td>0.0</td>\n",
       "      <td>0.063558</td>\n",
       "      <td>3.950617</td>\n",
       "    </tr>\n",
       "    <tr>\n",
       "      <th>1</th>\n",
       "      <td>RGI60-13.00062</td>\n",
       "      <td>2010-01-01_2020-01-01</td>\n",
       "      <td>-0.1517</td>\n",
       "      <td>-396462.0</td>\n",
       "      <td>-0.1784</td>\n",
       "      <td>2571.0835</td>\n",
       "      <td>-13.101825</td>\n",
       "      <td>0.622839</td>\n",
       "      <td>5777.281395</td>\n",
       "      <td>5</td>\n",
       "      <td>21.5</td>\n",
       "      <td>358.0</td>\n",
       "      <td>1532.0</td>\n",
       "      <td>2.222</td>\n",
       "      <td>6011.0</td>\n",
       "      <td>5417.0</td>\n",
       "      <td>5839.0</td>\n",
       "      <td>47.280240</td>\n",
       "      <td>0.0</td>\n",
       "      <td>0.063558</td>\n",
       "      <td>3.950617</td>\n",
       "    </tr>\n",
       "    <tr>\n",
       "      <th>2</th>\n",
       "      <td>RGI60-13.00093</td>\n",
       "      <td>2000-01-01_2010-01-01</td>\n",
       "      <td>0.3403</td>\n",
       "      <td>808356.0</td>\n",
       "      <td>0.4004</td>\n",
       "      <td>2471.3232</td>\n",
       "      <td>-14.763111</td>\n",
       "      <td>0.349641</td>\n",
       "      <td>5766.503904</td>\n",
       "      <td>5</td>\n",
       "      <td>25.6</td>\n",
       "      <td>50.0</td>\n",
       "      <td>1219.0</td>\n",
       "      <td>2.019</td>\n",
       "      <td>6095.0</td>\n",
       "      <td>5432.0</td>\n",
       "      <td>5795.0</td>\n",
       "      <td>31.963816</td>\n",
       "      <td>0.0</td>\n",
       "      <td>0.384015</td>\n",
       "      <td>2.211302</td>\n",
       "    </tr>\n",
       "    <tr>\n",
       "      <th>3</th>\n",
       "      <td>RGI60-13.00093</td>\n",
       "      <td>2010-01-01_2020-01-01</td>\n",
       "      <td>-0.2084</td>\n",
       "      <td>-494898.0</td>\n",
       "      <td>-0.2451</td>\n",
       "      <td>2483.2847</td>\n",
       "      <td>-14.639121</td>\n",
       "      <td>0.349641</td>\n",
       "      <td>5766.503904</td>\n",
       "      <td>5</td>\n",
       "      <td>25.6</td>\n",
       "      <td>50.0</td>\n",
       "      <td>1219.0</td>\n",
       "      <td>2.019</td>\n",
       "      <td>6095.0</td>\n",
       "      <td>5432.0</td>\n",
       "      <td>5795.0</td>\n",
       "      <td>31.963816</td>\n",
       "      <td>0.0</td>\n",
       "      <td>0.384015</td>\n",
       "      <td>2.211302</td>\n",
       "    </tr>\n",
       "    <tr>\n",
       "      <th>4</th>\n",
       "      <td>RGI60-13.00130</td>\n",
       "      <td>2000-01-01_2010-01-01</td>\n",
       "      <td>0.2993</td>\n",
       "      <td>858801.0</td>\n",
       "      <td>0.3521</td>\n",
       "      <td>2471.3232</td>\n",
       "      <td>-14.763111</td>\n",
       "      <td>0.482537</td>\n",
       "      <td>5864.392600</td>\n",
       "      <td>5</td>\n",
       "      <td>26.4</td>\n",
       "      <td>346.0</td>\n",
       "      <td>2145.0</td>\n",
       "      <td>2.439</td>\n",
       "      <td>6308.0</td>\n",
       "      <td>5428.0</td>\n",
       "      <td>5864.0</td>\n",
       "      <td>36.834835</td>\n",
       "      <td>0.0</td>\n",
       "      <td>0.018882</td>\n",
       "      <td>1.470588</td>\n",
       "    </tr>\n",
       "  </tbody>\n",
       "</table>\n",
       "</div>"
      ],
      "text/plain": [
       "           rgi_id                 period  dmdtda    dvoldt    dhdt       prcp  \\\n",
       "0  RGI60-13.00062  2000-01-01_2010-01-01  0.2511  656305.0  0.2954  2662.2944   \n",
       "1  RGI60-13.00062  2010-01-01_2020-01-01 -0.1517 -396462.0 -0.1784  2571.0835   \n",
       "2  RGI60-13.00093  2000-01-01_2010-01-01  0.3403  808356.0  0.4004  2471.3232   \n",
       "3  RGI60-13.00093  2010-01-01_2020-01-01 -0.2084 -494898.0 -0.2451  2483.2847   \n",
       "4  RGI60-13.00130  2000-01-01_2010-01-01  0.2993  858801.0  0.3521  2471.3232   \n",
       "\n",
       "        temp  tstar_aar  tstar_ela_h  O2Region  Slope  Aspect    Lmax   Area  \\\n",
       "0 -13.254577   0.622839  5777.281395         5   21.5   358.0  1532.0  2.222   \n",
       "1 -13.101825   0.622839  5777.281395         5   21.5   358.0  1532.0  2.222   \n",
       "2 -14.763111   0.349641  5766.503904         5   25.6    50.0  1219.0  2.019   \n",
       "3 -14.639121   0.349641  5766.503904         5   25.6    50.0  1219.0  2.019   \n",
       "4 -14.763111   0.482537  5864.392600         5   26.4   346.0  2145.0  2.439   \n",
       "\n",
       "     Zmax    Zmin    Zmed  ice_thickness  glacial_lake  debris_vol_ela_p  \\\n",
       "0  6011.0  5417.0  5839.0      47.280240           0.0          0.063558   \n",
       "1  6011.0  5417.0  5839.0      47.280240           0.0          0.063558   \n",
       "2  6095.0  5432.0  5795.0      31.963816           0.0          0.384015   \n",
       "3  6095.0  5432.0  5795.0      31.963816           0.0          0.384015   \n",
       "4  6308.0  5428.0  5864.0      36.834835           0.0          0.018882   \n",
       "\n",
       "   debris_area_ela_p  \n",
       "0           3.950617  \n",
       "1           3.950617  \n",
       "2           2.211302  \n",
       "3           2.211302  \n",
       "4           1.470588  "
      ]
     },
     "execution_count": 12,
     "metadata": {},
     "output_type": "execute_result"
    }
   ],
   "source": [
    "df = df[df['Area']>2]\n",
    "df = df.reset_index()\n",
    "df = df.iloc[: , 1:]\n",
    "df.head()"
   ]
  },
  {
   "cell_type": "markdown",
   "id": "0f628c75",
   "metadata": {},
   "source": [
    "# make colum with temperature change"
   ]
  },
  {
   "cell_type": "code",
   "execution_count": null,
   "id": "33b38381",
   "metadata": {},
   "outputs": [],
   "source": [
    "ids = df['rgi_id']\n",
    "ids = ids.unique()\n",
    "empty_list_temp_diff = []\n",
    "empty_list_id = []\n",
    "empty_list_temp_mean = []\n",
    "\n",
    "for i in range(len(ids)):\n",
    "    \n",
    "    sel2000 =  df[(df['rgi_id'] == ids[i]) & (df['period'] == '2000-01-01_2010-01-01')]\n",
    "    sel2010 =  df[(df['rgi_id'] == ids[i]) & (df['period'] == '2010-01-01_2020-01-01')]\n",
    "    \n",
    "    value_temp_diff = sel2010['temp'].iloc[0] - sel2000['temp'].iloc[0]#negative value is afgenomen temp\n",
    "    value_temp_mean = (sel2010['temp'].iloc[0] + sel2000['temp'].iloc[0])/2\n",
    "    \n",
    "    id_take = ids[i]\n",
    "    \n",
    "    empty_list_temp_diff.append(value_temp_diff)\n",
    "    empty_list_id.append(id_take)\n",
    "    empty_list_temp_mean.append(value_temp_mean)\n",
    "    \n",
    "d = {'rgi_id':empty_list_id,'temp_diff':empty_list_temp_diff,'temp_mean':empty_list_temp_mean}\n",
    "temp_20y_df = pd.DataFrame(d)"
   ]
  },
  {
   "cell_type": "code",
   "execution_count": null,
   "id": "f6deb77d",
   "metadata": {
    "scrolled": true
   },
   "outputs": [],
   "source": [
    "df = df.merge(temp_20y_df, on = 'rgi_id', how= 'outer')"
   ]
  },
  {
   "cell_type": "code",
   "execution_count": null,
   "id": "8bbbb524",
   "metadata": {
    "scrolled": true
   },
   "outputs": [],
   "source": [
    "df['temp_diff'].mean()"
   ]
  },
  {
   "cell_type": "markdown",
   "id": "b078963f",
   "metadata": {},
   "source": [
    "# Make colum with prcp change"
   ]
  },
  {
   "cell_type": "code",
   "execution_count": null,
   "id": "5c2f59f4",
   "metadata": {},
   "outputs": [],
   "source": [
    "ids = df['rgi_id']\n",
    "ids = ids.unique()\n",
    "empty_list_prcp_diff = []\n",
    "empty_list_id = []\n",
    "empty_list_prcp_mean = []\n",
    "\n",
    "for i in range(len(ids)):\n",
    "    \n",
    "    sel2000 =  df[(df['rgi_id'] == ids[i]) & (df['period'] == '2000-01-01_2010-01-01')]\n",
    "    sel2010 =  df[(df['rgi_id'] == ids[i]) & (df['period'] == '2010-01-01_2020-01-01')]\n",
    " \n",
    "    value_prcp_diff = sel2010['prcp'].iloc[0] - sel2000['prcp'].iloc[0]#negative value is afgenomen temp\n",
    "    value_prcp_mean = (sel2010['prcp'].iloc[0] + sel2000['prcp'].iloc[0])/2\n",
    "    \n",
    "    id_take = ids[i]\n",
    "    empty_list_prcp_diff.append(value_prcp_diff)\n",
    "    empty_list_id.append(id_take)\n",
    "    empty_list_prcp_mean.append(value_prcp_mean)\n",
    "    \n",
    "d = {'rgi_id':empty_list_id,'prcp_diff':empty_list_prcp_diff,'prcp_mean':empty_list_prcp_mean}\n",
    "prcp_20y_df = pd.DataFrame(d)"
   ]
  },
  {
   "cell_type": "code",
   "execution_count": null,
   "id": "1971517c",
   "metadata": {},
   "outputs": [],
   "source": [
    "df = df.merge(prcp_20y_df, on = 'rgi_id', how= 'outer')"
   ]
  },
  {
   "cell_type": "code",
   "execution_count": null,
   "id": "a22a4d95",
   "metadata": {},
   "outputs": [],
   "source": [
    "df = df[['rgi_id','O2Region','tstar_aar','tstar_ela_h','Slope','Aspect','Lmax','Area','Zmed','Zmin','Zmax','ice_thickness','glacial_lake','debris_vol_ela_p','debris_area_ela_p','temp_mean','temp_diff','prcp_diff','prcp_mean','period']]"
   ]
  },
  {
   "cell_type": "code",
   "execution_count": null,
   "id": "b7e88432",
   "metadata": {
    "scrolled": true
   },
   "outputs": [],
   "source": [
    "df = df[df['period']== '2000-01-01_2010-01-01']"
   ]
  },
  {
   "cell_type": "code",
   "execution_count": null,
   "id": "4039114d",
   "metadata": {},
   "outputs": [],
   "source": [
    "df = df[['rgi_id','O2Region','tstar_aar','tstar_ela_h','Slope','Aspect','Lmax','Area','Zmed','Zmin','Zmax','ice_thickness','glacial_lake','debris_vol_ela_p','debris_area_ela_p','temp_mean','temp_diff','prcp_diff','prcp_mean']]"
   ]
  },
  {
   "cell_type": "code",
   "execution_count": null,
   "id": "d7b9573a",
   "metadata": {},
   "outputs": [],
   "source": [
    "huggonet_dat = huggonet_dat[huggonet_dat[\"period\"].str.contains(\"2000-01-01_2020-01-01\")==True]\n",
    "huggonet_dat = huggonet_dat.rename(columns={\"rgiid\": \"rgi_id\"})"
   ]
  },
  {
   "cell_type": "code",
   "execution_count": null,
   "id": "b03948cc",
   "metadata": {},
   "outputs": [],
   "source": [
    "huggonet_dat = huggonet_dat[['rgi_id','period','dvoldt','dmdtda']]"
   ]
  },
  {
   "cell_type": "code",
   "execution_count": null,
   "id": "212a08bc",
   "metadata": {},
   "outputs": [],
   "source": [
    "df20y = pd.merge(huggonet_dat,df, on=['rgi_id'], how = 'inner')"
   ]
  },
  {
   "cell_type": "markdown",
   "id": "d6be026a",
   "metadata": {},
   "source": [
    "# make colum with mean and difference temperature 1980-2000"
   ]
  },
  {
   "cell_type": "code",
   "execution_count": 14,
   "id": "81baf335",
   "metadata": {},
   "outputs": [],
   "source": [
    "# laad in data.\n",
    "rgi = pd.read_csv('/Users/bovandenbosch/Documents/Master_Applied Data_Science/Thesis/Data/rgi_df_pd_format')\n",
    "climate_hist1980 = pd.read_csv('/Users/bovandenbosch/Documents/Master_Applied Data_Science/Thesis/Data/climate_historical_1980_2000.csv')"
   ]
  },
  {
   "cell_type": "code",
   "execution_count": 15,
   "id": "7ec4b94f",
   "metadata": {
    "scrolled": true
   },
   "outputs": [],
   "source": [
    "rgi = rgi[rgi['Area']>2]\n",
    "rgi = rgi[['rgi_id','Area']]"
   ]
  },
  {
   "cell_type": "code",
   "execution_count": null,
   "id": "a50415dd",
   "metadata": {},
   "outputs": [],
   "source": [
    "climate_hist1980['time'] = climate_hist1980['time'].replace({'1989-12-31':'1980-01-01_1990-01-01', '1999-12-31':'1990-01-01_2000-01-01'})"
   ]
  },
  {
   "cell_type": "code",
   "execution_count": null,
   "id": "18c95216",
   "metadata": {
    "scrolled": true
   },
   "outputs": [],
   "source": [
    "climate_hist1980 = climate_hist1980.merge(rgi,on='rgi_id',how='inner')"
   ]
  },
  {
   "cell_type": "code",
   "execution_count": null,
   "id": "03b4666f",
   "metadata": {},
   "outputs": [],
   "source": [
    "# make colum with mean and differecne \n",
    "ids = climate_hist1980['rgi_id']\n",
    "ids = ids.unique()\n",
    "empty_list_id = []\n",
    "\n",
    "empty_list_temp_diff = []\n",
    "empty_list_temp_mean = []\n",
    "\n",
    "empty_list_prcp_diff = []\n",
    "empty_list_prcp_mean = []\n",
    "\n",
    "for i in range(len(ids)):\n",
    "\n",
    "    sel1980 =  climate_hist1980[(climate_hist1980['rgi_id'] == ids[i]) & (climate_hist1980['time'] == '1980-01-01_1990-01-01')]\n",
    "    sel1990 =  climate_hist1980[(climate_hist1980['rgi_id'] == ids[i]) & (climate_hist1980['time'] == '1990-01-01_2000-01-01')]\n",
    "    \n",
    "    value_temp_diff = sel1990['temp'].iloc[0] - sel1980['temp'].iloc[0]\n",
    "    value_temp_mean = (sel1990['temp'].iloc[0] + sel1980['temp'].iloc[0])/2\n",
    "    \n",
    "    value_prcp_diff = sel1990['prcp'].iloc[0] - sel1980['prcp'].iloc[0]\n",
    "    value_prcp_mean = (sel1990['prcp'].iloc[0] + sel1980['prcp'].iloc[0])/2\n",
    "   \n",
    "    empty_list_temp_diff.append(value_temp_diff)\n",
    "    empty_list_temp_mean.append(value_temp_mean)\n",
    "    empty_list_prcp_diff.append(value_prcp_diff)\n",
    "    empty_list_prcp_mean.append(value_prcp_mean)\n",
    "    \n",
    "    id_take = ids[i]\n",
    "    empty_list_id.append(id_take)\n",
    "   \n",
    "    \n",
    "d = {'rgi_id':empty_list_id,'temp_diff_1980-2000':empty_list_temp_diff,'temp_mean_1980-2000':empty_list_temp_mean,'prcp_diff_1980_2000':empty_list_prcp_diff,'prcp_mean_1980_2000':empty_list_prcp_mean}\n",
    "temp_prcp_1980_2000 = pd.DataFrame(d)"
   ]
  },
  {
   "cell_type": "code",
   "execution_count": null,
   "id": "c456d970",
   "metadata": {},
   "outputs": [],
   "source": [
    "# merge on rgi_id with df\n",
    "df20y = df20y.merge(temp_prcp_1980_2000,on='rgi_id',how='outer')"
   ]
  },
  {
   "cell_type": "code",
   "execution_count": null,
   "id": "ce0879f5",
   "metadata": {},
   "outputs": [],
   "source": [
    "df20y = df20y.drop_duplicates(subset=['rgi_id'])"
   ]
  },
  {
   "cell_type": "markdown",
   "id": "5a3d01fc",
   "metadata": {},
   "source": [
    "# make aspact catechorical variable"
   ]
  },
  {
   "cell_type": "code",
   "execution_count": null,
   "id": "c855cc9c",
   "metadata": {},
   "outputs": [],
   "source": [
    "df20y['Aspect']"
   ]
  },
  {
   "cell_type": "code",
   "execution_count": null,
   "id": "a1c88592",
   "metadata": {
    "scrolled": true
   },
   "outputs": [],
   "source": [
    "df20y['Aspect'] = np.where((df20y.Aspect > 0) & (df20y.Aspect < 91), 0, df20y.Aspect)\n",
    "df20y['Aspect'] = np.where((df20y.Aspect > 90) & (df20y.Aspect < 271), 1, df20y.Aspect)\n",
    "df20y['Aspect'] = np.where((df20y.Aspect > 270) & (df20y.Aspect < 361), 0, df20y.Aspect)"
   ]
  },
  {
   "cell_type": "markdown",
   "id": "158df03b",
   "metadata": {},
   "source": [
    "# add mean velocity"
   ]
  },
  {
   "cell_type": "code",
   "execution_count": null,
   "id": "eedb9acd",
   "metadata": {},
   "outputs": [],
   "source": [
    "velocity = pd.read_csv('/Users/bovandenbosch/Documents/Master_Applied Data_Science/Thesis/Data/glacier_velocity.csv')"
   ]
  },
  {
   "cell_type": "code",
   "execution_count": null,
   "id": "5877fc07",
   "metadata": {},
   "outputs": [],
   "source": [
    "velocity = velocity.rename(columns={\"RGIId\": \"rgi_id\",'_mean':'velocity_mean'})"
   ]
  },
  {
   "cell_type": "code",
   "execution_count": null,
   "id": "3ad676ab",
   "metadata": {
    "scrolled": false
   },
   "outputs": [],
   "source": [
    "velocity.isnull().sum()"
   ]
  },
  {
   "cell_type": "code",
   "execution_count": null,
   "id": "2d4d6237",
   "metadata": {},
   "outputs": [],
   "source": [
    "df20y = df20y.merge(velocity,on='rgi_id',how='outer')"
   ]
  },
  {
   "cell_type": "code",
   "execution_count": null,
   "id": "6b03fa29",
   "metadata": {},
   "outputs": [],
   "source": [
    "missing_velocity = df20y[df20y['velocity_mean'].isnull() == True]"
   ]
  },
  {
   "cell_type": "code",
   "execution_count": null,
   "id": "db67885f",
   "metadata": {},
   "outputs": [],
   "source": [
    "missing_velocity.mean()"
   ]
  }
 ],
 "metadata": {
  "kernelspec": {
   "display_name": "Python 3",
   "language": "python",
   "name": "python3"
  },
  "language_info": {
   "codemirror_mode": {
    "name": "ipython",
    "version": 3
   },
   "file_extension": ".py",
   "mimetype": "text/x-python",
   "name": "python",
   "nbconvert_exporter": "python",
   "pygments_lexer": "ipython3",
   "version": "3.8.8"
  }
 },
 "nbformat": 4,
 "nbformat_minor": 5
}
