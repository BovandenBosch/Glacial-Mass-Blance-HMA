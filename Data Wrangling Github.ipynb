{
 "cells": [
  {
   "cell_type": "markdown",
   "id": "5c8746f3",
   "metadata": {},
   "source": [
    "# initatization "
   ]
  },
  {
   "cell_type": "code",
   "execution_count": 1,
   "id": "7ac1d69e",
   "metadata": {},
   "outputs": [],
   "source": [
    "import pandas as pd\n",
    "import numpy as np\n",
    "import os\n",
    "import tarfile\n",
    "import netCDF4 as nc\n",
    "import xarray as xr\n",
    "from glob import glob \n",
    "import rasterio\n",
    "import functools\n",
    "from functools import reduce"
   ]
  },
  {
   "cell_type": "code",
   "execution_count": 2,
   "id": "26ed6260",
   "metadata": {},
   "outputs": [],
   "source": [
    "import shapely\n",
    "import fiona \n",
    "import pyproj\n",
    "import geopandas as gpd"
   ]
  },
  {
   "cell_type": "code",
   "execution_count": 3,
   "id": "883d2258",
   "metadata": {},
   "outputs": [],
   "source": [
    "debris_dat = pd.read_csv('/Users/bovandenbosch/Documents/Master_Applied Data_Science/Thesis/Data/rgi60_points_gt04km2_debrisstats.csv')"
   ]
  },
  {
   "cell_type": "code",
   "execution_count": 4,
   "id": "4e16928e",
   "metadata": {},
   "outputs": [],
   "source": [
    "climate_stat_13 = pd.read_csv('climate_statistics_13.csv')\n",
    "climate_stat_14 = pd.read_csv('climate_statistics_14.csv')\n",
    "climate_stat_15 = pd.read_csv('climate_statistics_15.csv')\n",
    "glacier_stat_13 = pd.read_csv('glacier_statistics_13.csv')\n",
    "glacier_stat_14 = pd.read_csv('glacier_statistics_14.csv')\n",
    "glacier_stat_15 = pd.read_csv('glacier_statistics_15.csv')\n",
    "huggonet_dat = pd.read_csv('hugonnet_2021_ds_rgi60_pergla_rates_10_20_worldwide.csv')\n",
    "climate_historical = pd.read_csv('/Users/bovandenbosch/Documents/Master_Applied Data_Science/Thesis/Data/climate_historical.csv')\n",
    "ice_thickness_dat = pd.read_csv('/Users/bovandenbosch/Documents/Master_Applied Data_Science/Thesis/Data/ice_thickness_df.csv')\n",
    "debris_dat = pd.read_csv('/Users/bovandenbosch/Documents/Master_Applied Data_Science/Thesis/Data/rgi60_points_gt04km2_debrisstats.csv')\n",
    "lakes_dat = pd.read_csv('/Users/bovandenbosch/Documents/Master_Applied Data_Science/Thesis/Data/supraglacial_lakes_df.csv')\n",
    "rgi13 = gpd.read_file('/Users/bovandenbosch/Documents/Master_Applied Data_Science/Thesis/Data/RGI/nsidc0770_13_rgi60_CentralAsia/13_rgi60_CentralAsia.shp')\n",
    "rgi14 = gpd.read_file('/Users/bovandenbosch/Documents/Master_Applied Data_Science/Thesis/Data/RGI/nsidc0770_14_rgi60_SouthAsiaWest/14_rgi60_SouthAsiaWest.shp')\n",
    "rgi15 = gpd.read_file('/Users/bovandenbosch/Documents/Master_Applied Data_Science/Thesis/Data/RGI/nsidc0770_15_rgi60_SouthAsiaEast/15_rgi60_SouthAsiaEast.shp')"
   ]
  },
  {
   "cell_type": "code",
   "execution_count": 5,
   "id": "c35ec708",
   "metadata": {},
   "outputs": [],
   "source": [
    "pd.set_option('display.max_columns', None)"
   ]
  },
  {
   "cell_type": "code",
   "execution_count": 7,
   "id": "f7c371fb",
   "metadata": {},
   "outputs": [
    {
     "data": {
      "text/plain": [
       "8.477432590855804"
      ]
     },
     "execution_count": 7,
     "metadata": {},
     "output_type": "execute_result"
    }
   ],
   "source": [
    "# hoeveel glaciers bestuderen wij:\n",
    "area_bigger_2 = (len(glacier_stat_13[glacier_stat_13['rgi_area_km2']>2])+\n",
    " len(glacier_stat_14[glacier_stat_14['rgi_area_km2']>2])+\n",
    " len(glacier_stat_15[glacier_stat_15['rgi_area_km2']>2]))\n",
    "\n",
    "tot = (len(glacier_stat_13)+\n",
    " len(glacier_stat_14)+\n",
    " len(glacier_stat_15))\n",
    "\n",
    "(area_bigger_2/tot)*100"
   ]
  },
  {
   "cell_type": "markdown",
   "id": "fcd2a321",
   "metadata": {},
   "source": [
    "# Climate Statistics"
   ]
  },
  {
   "cell_type": "code",
   "execution_count": 8,
   "id": "1ea998b0",
   "metadata": {},
   "outputs": [],
   "source": [
    "climate_stat = pd.concat([climate_stat_13,climate_stat_14,climate_stat_15],ignore_index = True)"
   ]
  },
  {
   "cell_type": "code",
   "execution_count": 9,
   "id": "87f24147",
   "metadata": {},
   "outputs": [
    {
     "data": {
      "text/plain": [
       "(False, False, False)"
      ]
     },
     "execution_count": 9,
     "metadata": {},
     "output_type": "execute_result"
    }
   ],
   "source": [
    "(not any(climate_stat['glacier_type'] == 'Glacier'), #checking if all glacier types are glaciers\n",
    " not any(climate_stat['status'] == 'Glacier or ice cap'), \n",
    " not any(climate_stat['terminus_type'] == 'Land-terminating'))"
   ]
  },
  {
   "cell_type": "code",
   "execution_count": 10,
   "id": "dbd1fda1",
   "metadata": {},
   "outputs": [],
   "source": [
    "climate_stat = climate_stat[['rgi_id','tstar_aar','tstar_ela_h']]"
   ]
  },
  {
   "cell_type": "code",
   "execution_count": 11,
   "id": "e31c27f9",
   "metadata": {
    "scrolled": true
   },
   "outputs": [
    {
     "data": {
      "text/html": [
       "<div>\n",
       "<style scoped>\n",
       "    .dataframe tbody tr th:only-of-type {\n",
       "        vertical-align: middle;\n",
       "    }\n",
       "\n",
       "    .dataframe tbody tr th {\n",
       "        vertical-align: top;\n",
       "    }\n",
       "\n",
       "    .dataframe thead th {\n",
       "        text-align: right;\n",
       "    }\n",
       "</style>\n",
       "<table border=\"1\" class=\"dataframe\">\n",
       "  <thead>\n",
       "    <tr style=\"text-align: right;\">\n",
       "      <th></th>\n",
       "      <th>rgi_id</th>\n",
       "      <th>tstar_aar</th>\n",
       "      <th>tstar_ela_h</th>\n",
       "    </tr>\n",
       "  </thead>\n",
       "  <tbody>\n",
       "    <tr>\n",
       "      <th>95531</th>\n",
       "      <td>RGI60-15.13115</td>\n",
       "      <td>0.518153</td>\n",
       "      <td>5647.349262</td>\n",
       "    </tr>\n",
       "    <tr>\n",
       "      <th>95532</th>\n",
       "      <td>RGI60-15.13116</td>\n",
       "      <td>0.537703</td>\n",
       "      <td>5613.211517</td>\n",
       "    </tr>\n",
       "    <tr>\n",
       "      <th>95533</th>\n",
       "      <td>RGI60-15.13117</td>\n",
       "      <td>0.580946</td>\n",
       "      <td>5977.445401</td>\n",
       "    </tr>\n",
       "    <tr>\n",
       "      <th>95534</th>\n",
       "      <td>RGI60-15.13118</td>\n",
       "      <td>0.465043</td>\n",
       "      <td>5994.382197</td>\n",
       "    </tr>\n",
       "    <tr>\n",
       "      <th>95535</th>\n",
       "      <td>RGI60-15.13119</td>\n",
       "      <td>0.571124</td>\n",
       "      <td>5834.455509</td>\n",
       "    </tr>\n",
       "  </tbody>\n",
       "</table>\n",
       "</div>"
      ],
      "text/plain": [
       "               rgi_id  tstar_aar  tstar_ela_h\n",
       "95531  RGI60-15.13115   0.518153  5647.349262\n",
       "95532  RGI60-15.13116   0.537703  5613.211517\n",
       "95533  RGI60-15.13117   0.580946  5977.445401\n",
       "95534  RGI60-15.13118   0.465043  5994.382197\n",
       "95535  RGI60-15.13119   0.571124  5834.455509"
      ]
     },
     "execution_count": 11,
     "metadata": {},
     "output_type": "execute_result"
    }
   ],
   "source": [
    "climate_stat.tail()"
   ]
  },
  {
   "cell_type": "code",
   "execution_count": 12,
   "id": "553a1246",
   "metadata": {
    "scrolled": true
   },
   "outputs": [
    {
     "data": {
      "text/plain": [
       "rgi_id          0\n",
       "tstar_aar      89\n",
       "tstar_ela_h    89\n",
       "dtype: int64"
      ]
     },
     "execution_count": 12,
     "metadata": {},
     "output_type": "execute_result"
    }
   ],
   "source": [
    "climate_stat.isnull().sum(axis=0)"
   ]
  },
  {
   "cell_type": "code",
   "execution_count": 13,
   "id": "8ff682ae",
   "metadata": {},
   "outputs": [
    {
     "data": {
      "text/plain": [
       "0.0009315859989951432"
      ]
     },
     "execution_count": 13,
     "metadata": {},
     "output_type": "execute_result"
    }
   ],
   "source": [
    "climate_stat['tstar_aar'].isna().sum()/len(climate_stat['tstar_aar'])"
   ]
  },
  {
   "cell_type": "markdown",
   "id": "9d59cab3",
   "metadata": {},
   "source": [
    "# Glacier Statistics"
   ]
  },
  {
   "cell_type": "code",
   "execution_count": 14,
   "id": "02b1be1c",
   "metadata": {
    "scrolled": true
   },
   "outputs": [],
   "source": [
    "glacier_stat = pd.concat([glacier_stat_13,glacier_stat_14,glacier_stat_15])"
   ]
  },
  {
   "cell_type": "code",
   "execution_count": 15,
   "id": "8f777d1f",
   "metadata": {},
   "outputs": [
    {
     "data": {
      "text/plain": [
       "(False, False)"
      ]
     },
     "execution_count": 15,
     "metadata": {},
     "output_type": "execute_result"
    }
   ],
   "source": [
    "(not any(glacier_stat['glacier_type'] == 'Glacier'), #checking: all glacier_types are glaciers\n",
    "not any(glacier_stat['terminus_type'] == 'Land-terminating'))"
   ]
  },
  {
   "cell_type": "code",
   "execution_count": 16,
   "id": "67091a16",
   "metadata": {},
   "outputs": [],
   "source": [
    "glacier_stat = glacier_stat[['rgi_id','rgi_area_km2']]"
   ]
  },
  {
   "cell_type": "code",
   "execution_count": 17,
   "id": "6cf784f1",
   "metadata": {
    "scrolled": true
   },
   "outputs": [
    {
     "data": {
      "text/html": [
       "<div>\n",
       "<style scoped>\n",
       "    .dataframe tbody tr th:only-of-type {\n",
       "        vertical-align: middle;\n",
       "    }\n",
       "\n",
       "    .dataframe tbody tr th {\n",
       "        vertical-align: top;\n",
       "    }\n",
       "\n",
       "    .dataframe thead th {\n",
       "        text-align: right;\n",
       "    }\n",
       "</style>\n",
       "<table border=\"1\" class=\"dataframe\">\n",
       "  <thead>\n",
       "    <tr style=\"text-align: right;\">\n",
       "      <th></th>\n",
       "      <th>rgi_id</th>\n",
       "      <th>rgi_area_km2</th>\n",
       "    </tr>\n",
       "  </thead>\n",
       "  <tbody>\n",
       "    <tr>\n",
       "      <th>0</th>\n",
       "      <td>RGI60-13.00001</td>\n",
       "      <td>0.432</td>\n",
       "    </tr>\n",
       "    <tr>\n",
       "      <th>1</th>\n",
       "      <td>RGI60-13.00002</td>\n",
       "      <td>0.367</td>\n",
       "    </tr>\n",
       "    <tr>\n",
       "      <th>2</th>\n",
       "      <td>RGI60-13.00003</td>\n",
       "      <td>0.070</td>\n",
       "    </tr>\n",
       "    <tr>\n",
       "      <th>3</th>\n",
       "      <td>RGI60-13.00004</td>\n",
       "      <td>0.255</td>\n",
       "    </tr>\n",
       "    <tr>\n",
       "      <th>4</th>\n",
       "      <td>RGI60-13.00005</td>\n",
       "      <td>0.261</td>\n",
       "    </tr>\n",
       "  </tbody>\n",
       "</table>\n",
       "</div>"
      ],
      "text/plain": [
       "           rgi_id  rgi_area_km2\n",
       "0  RGI60-13.00001         0.432\n",
       "1  RGI60-13.00002         0.367\n",
       "2  RGI60-13.00003         0.070\n",
       "3  RGI60-13.00004         0.255\n",
       "4  RGI60-13.00005         0.261"
      ]
     },
     "execution_count": 17,
     "metadata": {},
     "output_type": "execute_result"
    }
   ],
   "source": [
    "glacier_stat.head()"
   ]
  },
  {
   "cell_type": "code",
   "execution_count": 18,
   "id": "2ea13700",
   "metadata": {},
   "outputs": [
    {
     "data": {
      "text/plain": [
       "rgi_id          0\n",
       "rgi_area_km2    0\n",
       "dtype: int64"
      ]
     },
     "execution_count": 18,
     "metadata": {},
     "output_type": "execute_result"
    }
   ],
   "source": [
    "glacier_stat.isnull().sum(axis=0)"
   ]
  },
  {
   "cell_type": "markdown",
   "id": "91fad70a",
   "metadata": {},
   "source": [
    "# Huggonet"
   ]
  },
  {
   "cell_type": "code",
   "execution_count": 19,
   "id": "51a04381",
   "metadata": {},
   "outputs": [],
   "source": [
    "# remove time periode 2000-2020\n",
    "huggonet_dat = huggonet_dat[huggonet_dat[\"period\"].str.contains(\"2000-01-01_2020-01-01\")==False]\n",
    "huggonet_dat = huggonet_dat.rename(columns={\"rgiid\": \"rgi_id\"})"
   ]
  },
  {
   "cell_type": "code",
   "execution_count": 20,
   "id": "dcd9726b",
   "metadata": {},
   "outputs": [],
   "source": [
    "huggonet_dat = huggonet_dat[['rgi_id','period','dmdtda','dvoldt','dhdt']]"
   ]
  },
  {
   "cell_type": "code",
   "execution_count": 21,
   "id": "0b26d770",
   "metadata": {
    "scrolled": false
   },
   "outputs": [
    {
     "data": {
      "text/html": [
       "<div>\n",
       "<style scoped>\n",
       "    .dataframe tbody tr th:only-of-type {\n",
       "        vertical-align: middle;\n",
       "    }\n",
       "\n",
       "    .dataframe tbody tr th {\n",
       "        vertical-align: top;\n",
       "    }\n",
       "\n",
       "    .dataframe thead th {\n",
       "        text-align: right;\n",
       "    }\n",
       "</style>\n",
       "<table border=\"1\" class=\"dataframe\">\n",
       "  <thead>\n",
       "    <tr style=\"text-align: right;\">\n",
       "      <th></th>\n",
       "      <th>rgi_id</th>\n",
       "      <th>period</th>\n",
       "      <th>dmdtda</th>\n",
       "      <th>dvoldt</th>\n",
       "      <th>dhdt</th>\n",
       "    </tr>\n",
       "  </thead>\n",
       "  <tbody>\n",
       "    <tr>\n",
       "      <th>1</th>\n",
       "      <td>RGI60-01.00001</td>\n",
       "      <td>2010-01-01_2020-01-01</td>\n",
       "      <td>-0.0472</td>\n",
       "      <td>-20003.0</td>\n",
       "      <td>-0.0556</td>\n",
       "    </tr>\n",
       "    <tr>\n",
       "      <th>2</th>\n",
       "      <td>RGI60-01.00001</td>\n",
       "      <td>2000-01-01_2010-01-01</td>\n",
       "      <td>0.0217</td>\n",
       "      <td>9175.0</td>\n",
       "      <td>0.0255</td>\n",
       "    </tr>\n",
       "    <tr>\n",
       "      <th>4</th>\n",
       "      <td>RGI60-01.00002</td>\n",
       "      <td>2010-01-01_2020-01-01</td>\n",
       "      <td>-0.2898</td>\n",
       "      <td>-190257.0</td>\n",
       "      <td>-0.3410</td>\n",
       "    </tr>\n",
       "    <tr>\n",
       "      <th>5</th>\n",
       "      <td>RGI60-01.00002</td>\n",
       "      <td>2000-01-01_2010-01-01</td>\n",
       "      <td>-0.1683</td>\n",
       "      <td>-110465.0</td>\n",
       "      <td>-0.1980</td>\n",
       "    </tr>\n",
       "    <tr>\n",
       "      <th>7</th>\n",
       "      <td>RGI60-01.00003</td>\n",
       "      <td>2010-01-01_2020-01-01</td>\n",
       "      <td>-1.0428</td>\n",
       "      <td>-2067231.0</td>\n",
       "      <td>-1.2268</td>\n",
       "    </tr>\n",
       "  </tbody>\n",
       "</table>\n",
       "</div>"
      ],
      "text/plain": [
       "           rgi_id                 period  dmdtda     dvoldt    dhdt\n",
       "1  RGI60-01.00001  2010-01-01_2020-01-01 -0.0472   -20003.0 -0.0556\n",
       "2  RGI60-01.00001  2000-01-01_2010-01-01  0.0217     9175.0  0.0255\n",
       "4  RGI60-01.00002  2010-01-01_2020-01-01 -0.2898  -190257.0 -0.3410\n",
       "5  RGI60-01.00002  2000-01-01_2010-01-01 -0.1683  -110465.0 -0.1980\n",
       "7  RGI60-01.00003  2010-01-01_2020-01-01 -1.0428 -2067231.0 -1.2268"
      ]
     },
     "execution_count": 21,
     "metadata": {},
     "output_type": "execute_result"
    }
   ],
   "source": [
    "huggonet_dat.head()"
   ]
  },
  {
   "cell_type": "code",
   "execution_count": 22,
   "id": "5b6f6a90",
   "metadata": {},
   "outputs": [
    {
     "data": {
      "text/plain": [
       "rgi_id        0\n",
       "period        0\n",
       "dmdtda    16020\n",
       "dvoldt    16020\n",
       "dhdt      14120\n",
       "dtype: int64"
      ]
     },
     "execution_count": 22,
     "metadata": {},
     "output_type": "execute_result"
    }
   ],
   "source": [
    "huggonet_dat.isnull().sum(axis=0)"
   ]
  },
  {
   "cell_type": "markdown",
   "id": "cb35306b",
   "metadata": {},
   "source": [
    "# climate historical 2000-2020"
   ]
  },
  {
   "cell_type": "code",
   "execution_count": 23,
   "id": "145a4bc5",
   "metadata": {
    "scrolled": true
   },
   "outputs": [],
   "source": [
    "# make climate historical same time formate as hugonet\n",
    "climate_historical['time'] = climate_historical['time'].replace({'2009-12-31':'2000-01-01_2010-01-01', '2019-12-31':'2010-01-01_2020-01-01'})\n",
    "climate_historical = climate_historical.rename(columns={\"time\": \"period\"})\n"
   ]
  },
  {
   "cell_type": "code",
   "execution_count": 24,
   "id": "58d9e45d",
   "metadata": {
    "scrolled": false
   },
   "outputs": [
    {
     "data": {
      "text/html": [
       "<div>\n",
       "<style scoped>\n",
       "    .dataframe tbody tr th:only-of-type {\n",
       "        vertical-align: middle;\n",
       "    }\n",
       "\n",
       "    .dataframe tbody tr th {\n",
       "        vertical-align: top;\n",
       "    }\n",
       "\n",
       "    .dataframe thead th {\n",
       "        text-align: right;\n",
       "    }\n",
       "</style>\n",
       "<table border=\"1\" class=\"dataframe\">\n",
       "  <thead>\n",
       "    <tr style=\"text-align: right;\">\n",
       "      <th></th>\n",
       "      <th>period</th>\n",
       "      <th>prcp</th>\n",
       "      <th>temp</th>\n",
       "      <th>rgi_id</th>\n",
       "    </tr>\n",
       "  </thead>\n",
       "  <tbody>\n",
       "    <tr>\n",
       "      <th>191067</th>\n",
       "      <td>2010-01-01_2020-01-01</td>\n",
       "      <td>5144.9110</td>\n",
       "      <td>-4.920659</td>\n",
       "      <td>RGI60-15.13117</td>\n",
       "    </tr>\n",
       "    <tr>\n",
       "      <th>191068</th>\n",
       "      <td>2000-01-01_2010-01-01</td>\n",
       "      <td>4942.9070</td>\n",
       "      <td>-5.594553</td>\n",
       "      <td>RGI60-15.13118</td>\n",
       "    </tr>\n",
       "    <tr>\n",
       "      <th>191069</th>\n",
       "      <td>2010-01-01_2020-01-01</td>\n",
       "      <td>5144.9110</td>\n",
       "      <td>-4.920659</td>\n",
       "      <td>RGI60-15.13118</td>\n",
       "    </tr>\n",
       "    <tr>\n",
       "      <th>191070</th>\n",
       "      <td>2000-01-01_2010-01-01</td>\n",
       "      <td>5431.8496</td>\n",
       "      <td>-6.466131</td>\n",
       "      <td>RGI60-15.13119</td>\n",
       "    </tr>\n",
       "    <tr>\n",
       "      <th>191071</th>\n",
       "      <td>2010-01-01_2020-01-01</td>\n",
       "      <td>5656.5050</td>\n",
       "      <td>-5.735077</td>\n",
       "      <td>RGI60-15.13119</td>\n",
       "    </tr>\n",
       "  </tbody>\n",
       "</table>\n",
       "</div>"
      ],
      "text/plain": [
       "                       period       prcp      temp          rgi_id\n",
       "191067  2010-01-01_2020-01-01  5144.9110 -4.920659  RGI60-15.13117\n",
       "191068  2000-01-01_2010-01-01  4942.9070 -5.594553  RGI60-15.13118\n",
       "191069  2010-01-01_2020-01-01  5144.9110 -4.920659  RGI60-15.13118\n",
       "191070  2000-01-01_2010-01-01  5431.8496 -6.466131  RGI60-15.13119\n",
       "191071  2010-01-01_2020-01-01  5656.5050 -5.735077  RGI60-15.13119"
      ]
     },
     "execution_count": 24,
     "metadata": {},
     "output_type": "execute_result"
    }
   ],
   "source": [
    "climate_historical.tail()"
   ]
  },
  {
   "cell_type": "code",
   "execution_count": 25,
   "id": "320a0d05",
   "metadata": {
    "scrolled": true
   },
   "outputs": [
    {
     "data": {
      "text/plain": [
       "period    0\n",
       "prcp      0\n",
       "temp      0\n",
       "rgi_id    0\n",
       "dtype: int64"
      ]
     },
     "execution_count": 25,
     "metadata": {},
     "output_type": "execute_result"
    }
   ],
   "source": [
    "climate_historical.isnull().sum(axis=0)"
   ]
  },
  {
   "cell_type": "markdown",
   "id": "e471fc54",
   "metadata": {},
   "source": [
    "# Debris Data"
   ]
  },
  {
   "cell_type": "code",
   "execution_count": 26,
   "id": "30b94b44",
   "metadata": {},
   "outputs": [
    {
     "data": {
      "text/html": [
       "<div>\n",
       "<style scoped>\n",
       "    .dataframe tbody tr th:only-of-type {\n",
       "        vertical-align: middle;\n",
       "    }\n",
       "\n",
       "    .dataframe tbody tr th {\n",
       "        vertical-align: top;\n",
       "    }\n",
       "\n",
       "    .dataframe thead th {\n",
       "        text-align: right;\n",
       "    }\n",
       "</style>\n",
       "<table border=\"1\" class=\"dataframe\">\n",
       "  <thead>\n",
       "    <tr style=\"text-align: right;\">\n",
       "      <th></th>\n",
       "      <th>RGIId</th>\n",
       "      <th>lon</th>\n",
       "      <th>lat</th>\n",
       "      <th>tot_area</th>\n",
       "      <th>deb_area</th>\n",
       "      <th>cln_area</th>\n",
       "      <th>tot_vol</th>\n",
       "      <th>deb_vol</th>\n",
       "      <th>cln_vol</th>\n",
       "      <th>tota_ela</th>\n",
       "      <th>deba_ela</th>\n",
       "      <th>totv_ela</th>\n",
       "      <th>deb_v_ela</th>\n",
       "      <th>area_perc</th>\n",
       "      <th>vol_perc</th>\n",
       "      <th>vol_ela_p</th>\n",
       "    </tr>\n",
       "  </thead>\n",
       "  <tbody>\n",
       "    <tr>\n",
       "      <th>0</th>\n",
       "      <td>RGI60-13.00001</td>\n",
       "      <td>79.4939</td>\n",
       "      <td>34.4713</td>\n",
       "      <td>431100</td>\n",
       "      <td>11700</td>\n",
       "      <td>419400</td>\n",
       "      <td>2.186700e+06</td>\n",
       "      <td>3.055613e+03</td>\n",
       "      <td>2.183644e+06</td>\n",
       "      <td>99000</td>\n",
       "      <td>3600</td>\n",
       "      <td>3.257255e+05</td>\n",
       "      <td>5.100403e+02</td>\n",
       "      <td>2.713990</td>\n",
       "      <td>0.139736</td>\n",
       "      <td>0.156586</td>\n",
       "    </tr>\n",
       "    <tr>\n",
       "      <th>1</th>\n",
       "      <td>RGI60-13.00014</td>\n",
       "      <td>78.0681</td>\n",
       "      <td>35.5749</td>\n",
       "      <td>649800</td>\n",
       "      <td>9000</td>\n",
       "      <td>640800</td>\n",
       "      <td>2.556373e+06</td>\n",
       "      <td>2.557897e+02</td>\n",
       "      <td>2.556117e+06</td>\n",
       "      <td>128700</td>\n",
       "      <td>8100</td>\n",
       "      <td>3.725382e+05</td>\n",
       "      <td>2.426350e+02</td>\n",
       "      <td>1.385040</td>\n",
       "      <td>0.010006</td>\n",
       "      <td>0.065130</td>\n",
       "    </tr>\n",
       "    <tr>\n",
       "      <th>2</th>\n",
       "      <td>RGI60-13.00015</td>\n",
       "      <td>78.4388</td>\n",
       "      <td>35.5637</td>\n",
       "      <td>934200</td>\n",
       "      <td>127800</td>\n",
       "      <td>806400</td>\n",
       "      <td>9.657947e+06</td>\n",
       "      <td>1.275462e+06</td>\n",
       "      <td>8.382486e+06</td>\n",
       "      <td>73800</td>\n",
       "      <td>4500</td>\n",
       "      <td>5.389982e+05</td>\n",
       "      <td>1.150888e+04</td>\n",
       "      <td>13.680200</td>\n",
       "      <td>13.206300</td>\n",
       "      <td>2.135240</td>\n",
       "    </tr>\n",
       "    <tr>\n",
       "      <th>3</th>\n",
       "      <td>RGI60-13.00017</td>\n",
       "      <td>78.3496</td>\n",
       "      <td>35.5606</td>\n",
       "      <td>1320300</td>\n",
       "      <td>108000</td>\n",
       "      <td>1212300</td>\n",
       "      <td>1.997695e+07</td>\n",
       "      <td>2.685162e+06</td>\n",
       "      <td>1.729179e+07</td>\n",
       "      <td>159300</td>\n",
       "      <td>15300</td>\n",
       "      <td>1.031575e+06</td>\n",
       "      <td>9.246398e+03</td>\n",
       "      <td>8.179960</td>\n",
       "      <td>13.441300</td>\n",
       "      <td>0.896338</td>\n",
       "    </tr>\n",
       "    <tr>\n",
       "      <th>4</th>\n",
       "      <td>RGI60-13.00020</td>\n",
       "      <td>78.1002</td>\n",
       "      <td>35.5632</td>\n",
       "      <td>439200</td>\n",
       "      <td>9900</td>\n",
       "      <td>429300</td>\n",
       "      <td>1.998172e+06</td>\n",
       "      <td>1.981467e+03</td>\n",
       "      <td>1.996191e+06</td>\n",
       "      <td>72000</td>\n",
       "      <td>5400</td>\n",
       "      <td>3.328289e+05</td>\n",
       "      <td>1.662830e+03</td>\n",
       "      <td>2.254100</td>\n",
       "      <td>0.099164</td>\n",
       "      <td>0.499605</td>\n",
       "    </tr>\n",
       "    <tr>\n",
       "      <th>...</th>\n",
       "      <td>...</td>\n",
       "      <td>...</td>\n",
       "      <td>...</td>\n",
       "      <td>...</td>\n",
       "      <td>...</td>\n",
       "      <td>...</td>\n",
       "      <td>...</td>\n",
       "      <td>...</td>\n",
       "      <td>...</td>\n",
       "      <td>...</td>\n",
       "      <td>...</td>\n",
       "      <td>...</td>\n",
       "      <td>...</td>\n",
       "      <td>...</td>\n",
       "      <td>...</td>\n",
       "      <td>...</td>\n",
       "    </tr>\n",
       "    <tr>\n",
       "      <th>33582</th>\n",
       "      <td>RGI60-15.13097</td>\n",
       "      <td>80.2200</td>\n",
       "      <td>30.5950</td>\n",
       "      <td>3611700</td>\n",
       "      <td>3600</td>\n",
       "      <td>3608100</td>\n",
       "      <td>1.595523e+08</td>\n",
       "      <td>4.482747e+03</td>\n",
       "      <td>1.595478e+08</td>\n",
       "      <td>2248200</td>\n",
       "      <td>1800</td>\n",
       "      <td>1.150574e+08</td>\n",
       "      <td>4.177935e+03</td>\n",
       "      <td>0.099676</td>\n",
       "      <td>0.002810</td>\n",
       "      <td>0.003631</td>\n",
       "    </tr>\n",
       "    <tr>\n",
       "      <th>33583</th>\n",
       "      <td>RGI60-15.13104</td>\n",
       "      <td>79.4560</td>\n",
       "      <td>31.0520</td>\n",
       "      <td>22709700</td>\n",
       "      <td>1344600</td>\n",
       "      <td>21365100</td>\n",
       "      <td>2.727866e+09</td>\n",
       "      <td>1.429210e+08</td>\n",
       "      <td>2.584945e+09</td>\n",
       "      <td>6532200</td>\n",
       "      <td>1334700</td>\n",
       "      <td>1.048977e+09</td>\n",
       "      <td>1.428911e+08</td>\n",
       "      <td>5.920820</td>\n",
       "      <td>5.239300</td>\n",
       "      <td>13.621900</td>\n",
       "    </tr>\n",
       "    <tr>\n",
       "      <th>33584</th>\n",
       "      <td>RGI60-15.13115</td>\n",
       "      <td>81.9770</td>\n",
       "      <td>30.3370</td>\n",
       "      <td>1355400</td>\n",
       "      <td>51300</td>\n",
       "      <td>1304100</td>\n",
       "      <td>2.898304e+07</td>\n",
       "      <td>1.112262e+05</td>\n",
       "      <td>2.887181e+07</td>\n",
       "      <td>729900</td>\n",
       "      <td>25200</td>\n",
       "      <td>1.939320e+07</td>\n",
       "      <td>6.671299e+04</td>\n",
       "      <td>3.784860</td>\n",
       "      <td>0.383763</td>\n",
       "      <td>0.344002</td>\n",
       "    </tr>\n",
       "    <tr>\n",
       "      <th>33585</th>\n",
       "      <td>RGI60-15.13116</td>\n",
       "      <td>81.9910</td>\n",
       "      <td>30.3390</td>\n",
       "      <td>7429500</td>\n",
       "      <td>264600</td>\n",
       "      <td>7164900</td>\n",
       "      <td>7.816793e+08</td>\n",
       "      <td>2.531266e+06</td>\n",
       "      <td>7.791480e+08</td>\n",
       "      <td>3733200</td>\n",
       "      <td>252000</td>\n",
       "      <td>4.656625e+08</td>\n",
       "      <td>2.436067e+06</td>\n",
       "      <td>3.561480</td>\n",
       "      <td>0.323824</td>\n",
       "      <td>0.523140</td>\n",
       "    </tr>\n",
       "    <tr>\n",
       "      <th>33586</th>\n",
       "      <td>RGI60-15.13117</td>\n",
       "      <td>81.3550</td>\n",
       "      <td>30.4400</td>\n",
       "      <td>6780600</td>\n",
       "      <td>28800</td>\n",
       "      <td>6751800</td>\n",
       "      <td>3.727297e+08</td>\n",
       "      <td>4.373444e+04</td>\n",
       "      <td>3.726860e+08</td>\n",
       "      <td>6399900</td>\n",
       "      <td>28800</td>\n",
       "      <td>3.713039e+08</td>\n",
       "      <td>4.373444e+04</td>\n",
       "      <td>0.424741</td>\n",
       "      <td>0.011734</td>\n",
       "      <td>0.011779</td>\n",
       "    </tr>\n",
       "  </tbody>\n",
       "</table>\n",
       "<p>33587 rows × 16 columns</p>\n",
       "</div>"
      ],
      "text/plain": [
       "                RGIId      lon      lat  tot_area  deb_area  cln_area  \\\n",
       "0      RGI60-13.00001  79.4939  34.4713    431100     11700    419400   \n",
       "1      RGI60-13.00014  78.0681  35.5749    649800      9000    640800   \n",
       "2      RGI60-13.00015  78.4388  35.5637    934200    127800    806400   \n",
       "3      RGI60-13.00017  78.3496  35.5606   1320300    108000   1212300   \n",
       "4      RGI60-13.00020  78.1002  35.5632    439200      9900    429300   \n",
       "...               ...      ...      ...       ...       ...       ...   \n",
       "33582  RGI60-15.13097  80.2200  30.5950   3611700      3600   3608100   \n",
       "33583  RGI60-15.13104  79.4560  31.0520  22709700   1344600  21365100   \n",
       "33584  RGI60-15.13115  81.9770  30.3370   1355400     51300   1304100   \n",
       "33585  RGI60-15.13116  81.9910  30.3390   7429500    264600   7164900   \n",
       "33586  RGI60-15.13117  81.3550  30.4400   6780600     28800   6751800   \n",
       "\n",
       "            tot_vol       deb_vol       cln_vol  tota_ela  deba_ela  \\\n",
       "0      2.186700e+06  3.055613e+03  2.183644e+06     99000      3600   \n",
       "1      2.556373e+06  2.557897e+02  2.556117e+06    128700      8100   \n",
       "2      9.657947e+06  1.275462e+06  8.382486e+06     73800      4500   \n",
       "3      1.997695e+07  2.685162e+06  1.729179e+07    159300     15300   \n",
       "4      1.998172e+06  1.981467e+03  1.996191e+06     72000      5400   \n",
       "...             ...           ...           ...       ...       ...   \n",
       "33582  1.595523e+08  4.482747e+03  1.595478e+08   2248200      1800   \n",
       "33583  2.727866e+09  1.429210e+08  2.584945e+09   6532200   1334700   \n",
       "33584  2.898304e+07  1.112262e+05  2.887181e+07    729900     25200   \n",
       "33585  7.816793e+08  2.531266e+06  7.791480e+08   3733200    252000   \n",
       "33586  3.727297e+08  4.373444e+04  3.726860e+08   6399900     28800   \n",
       "\n",
       "           totv_ela     deb_v_ela  area_perc   vol_perc  vol_ela_p  \n",
       "0      3.257255e+05  5.100403e+02   2.713990   0.139736   0.156586  \n",
       "1      3.725382e+05  2.426350e+02   1.385040   0.010006   0.065130  \n",
       "2      5.389982e+05  1.150888e+04  13.680200  13.206300   2.135240  \n",
       "3      1.031575e+06  9.246398e+03   8.179960  13.441300   0.896338  \n",
       "4      3.328289e+05  1.662830e+03   2.254100   0.099164   0.499605  \n",
       "...             ...           ...        ...        ...        ...  \n",
       "33582  1.150574e+08  4.177935e+03   0.099676   0.002810   0.003631  \n",
       "33583  1.048977e+09  1.428911e+08   5.920820   5.239300  13.621900  \n",
       "33584  1.939320e+07  6.671299e+04   3.784860   0.383763   0.344002  \n",
       "33585  4.656625e+08  2.436067e+06   3.561480   0.323824   0.523140  \n",
       "33586  3.713039e+08  4.373444e+04   0.424741   0.011734   0.011779  \n",
       "\n",
       "[33587 rows x 16 columns]"
      ]
     },
     "execution_count": 26,
     "metadata": {},
     "output_type": "execute_result"
    }
   ],
   "source": [
    "debris_dat"
   ]
  },
  {
   "cell_type": "code",
   "execution_count": 27,
   "id": "9355fee2",
   "metadata": {},
   "outputs": [],
   "source": [
    "debris_dat = debris_dat.rename(columns={\"RGIId\": \"rgi_id\",\"vol_ela_p\":\"debris_vol_ela_p\"})"
   ]
  },
  {
   "cell_type": "code",
   "execution_count": 28,
   "id": "e8e8c39a",
   "metadata": {},
   "outputs": [],
   "source": [
    "debris_dat['debris_area_ela_p'] = (debris_dat['deba_ela']/debris_dat['tota_ela'])*100"
   ]
  },
  {
   "cell_type": "code",
   "execution_count": 29,
   "id": "cc2ac882",
   "metadata": {},
   "outputs": [],
   "source": [
    "debris_dat = debris_dat[['rgi_id','debris_vol_ela_p','debris_area_ela_p']]\n",
    "\n",
    "\n"
   ]
  },
  {
   "cell_type": "code",
   "execution_count": 30,
   "id": "65d22cf7",
   "metadata": {},
   "outputs": [
    {
     "data": {
      "text/html": [
       "<div>\n",
       "<style scoped>\n",
       "    .dataframe tbody tr th:only-of-type {\n",
       "        vertical-align: middle;\n",
       "    }\n",
       "\n",
       "    .dataframe tbody tr th {\n",
       "        vertical-align: top;\n",
       "    }\n",
       "\n",
       "    .dataframe thead th {\n",
       "        text-align: right;\n",
       "    }\n",
       "</style>\n",
       "<table border=\"1\" class=\"dataframe\">\n",
       "  <thead>\n",
       "    <tr style=\"text-align: right;\">\n",
       "      <th></th>\n",
       "      <th>rgi_id</th>\n",
       "      <th>debris_vol_ela_p</th>\n",
       "      <th>debris_area_ela_p</th>\n",
       "    </tr>\n",
       "  </thead>\n",
       "  <tbody>\n",
       "    <tr>\n",
       "      <th>0</th>\n",
       "      <td>RGI60-13.00001</td>\n",
       "      <td>0.156586</td>\n",
       "      <td>3.636364</td>\n",
       "    </tr>\n",
       "    <tr>\n",
       "      <th>1</th>\n",
       "      <td>RGI60-13.00014</td>\n",
       "      <td>0.065130</td>\n",
       "      <td>6.293706</td>\n",
       "    </tr>\n",
       "    <tr>\n",
       "      <th>2</th>\n",
       "      <td>RGI60-13.00015</td>\n",
       "      <td>2.135240</td>\n",
       "      <td>6.097561</td>\n",
       "    </tr>\n",
       "    <tr>\n",
       "      <th>3</th>\n",
       "      <td>RGI60-13.00017</td>\n",
       "      <td>0.896338</td>\n",
       "      <td>9.604520</td>\n",
       "    </tr>\n",
       "    <tr>\n",
       "      <th>4</th>\n",
       "      <td>RGI60-13.00020</td>\n",
       "      <td>0.499605</td>\n",
       "      <td>7.500000</td>\n",
       "    </tr>\n",
       "    <tr>\n",
       "      <th>...</th>\n",
       "      <td>...</td>\n",
       "      <td>...</td>\n",
       "      <td>...</td>\n",
       "    </tr>\n",
       "    <tr>\n",
       "      <th>33582</th>\n",
       "      <td>RGI60-15.13097</td>\n",
       "      <td>0.003631</td>\n",
       "      <td>0.080064</td>\n",
       "    </tr>\n",
       "    <tr>\n",
       "      <th>33583</th>\n",
       "      <td>RGI60-15.13104</td>\n",
       "      <td>13.621900</td>\n",
       "      <td>20.432626</td>\n",
       "    </tr>\n",
       "    <tr>\n",
       "      <th>33584</th>\n",
       "      <td>RGI60-15.13115</td>\n",
       "      <td>0.344002</td>\n",
       "      <td>3.452528</td>\n",
       "    </tr>\n",
       "    <tr>\n",
       "      <th>33585</th>\n",
       "      <td>RGI60-15.13116</td>\n",
       "      <td>0.523140</td>\n",
       "      <td>6.750241</td>\n",
       "    </tr>\n",
       "    <tr>\n",
       "      <th>33586</th>\n",
       "      <td>RGI60-15.13117</td>\n",
       "      <td>0.011779</td>\n",
       "      <td>0.450007</td>\n",
       "    </tr>\n",
       "  </tbody>\n",
       "</table>\n",
       "<p>33587 rows × 3 columns</p>\n",
       "</div>"
      ],
      "text/plain": [
       "               rgi_id  debris_vol_ela_p  debris_area_ela_p\n",
       "0      RGI60-13.00001          0.156586           3.636364\n",
       "1      RGI60-13.00014          0.065130           6.293706\n",
       "2      RGI60-13.00015          2.135240           6.097561\n",
       "3      RGI60-13.00017          0.896338           9.604520\n",
       "4      RGI60-13.00020          0.499605           7.500000\n",
       "...               ...               ...                ...\n",
       "33582  RGI60-15.13097          0.003631           0.080064\n",
       "33583  RGI60-15.13104         13.621900          20.432626\n",
       "33584  RGI60-15.13115          0.344002           3.452528\n",
       "33585  RGI60-15.13116          0.523140           6.750241\n",
       "33586  RGI60-15.13117          0.011779           0.450007\n",
       "\n",
       "[33587 rows x 3 columns]"
      ]
     },
     "execution_count": 30,
     "metadata": {},
     "output_type": "execute_result"
    }
   ],
   "source": [
    "debris_dat"
   ]
  },
  {
   "cell_type": "markdown",
   "id": "93d705c6",
   "metadata": {},
   "source": [
    "# RGI Data"
   ]
  },
  {
   "cell_type": "code",
   "execution_count": 31,
   "id": "f654edc3",
   "metadata": {},
   "outputs": [],
   "source": [
    "rgi_concat = pd.concat([rgi13,rgi14,rgi15],ignore_index=True)\n",
    "rgi_concat = rgi_concat.rename(columns={\"RGIId\": \"rgi_id\"})"
   ]
  },
  {
   "cell_type": "code",
   "execution_count": 32,
   "id": "472e1d6e",
   "metadata": {},
   "outputs": [],
   "source": [
    "rgi_concat = pd.concat([rgi13,rgi14,rgi15],ignore_index=True)\n",
    "rgi_concat = rgi_concat.rename(columns={\"RGIId\": \"rgi_id\"})\n",
    "rgi = rgi_concat[['rgi_id','O2Region','Slope','Aspect','Lmax','Area','Zmax','Zmin','Zmed']]\n",
    "rgi_df = pd.DataFrame(rgi)\n",
    "rgi_df.to_csv('rgi_df_pd_format')"
   ]
  },
  {
   "cell_type": "code",
   "execution_count": 33,
   "id": "a17d57b4",
   "metadata": {
    "scrolled": false
   },
   "outputs": [
    {
     "data": {
      "text/plain": [
       "rgi_id      0\n",
       "O2Region    0\n",
       "Slope       0\n",
       "Aspect      0\n",
       "Lmax        0\n",
       "Area        0\n",
       "Zmax        0\n",
       "Zmin        0\n",
       "Zmed        0\n",
       "dtype: int64"
      ]
     },
     "execution_count": 33,
     "metadata": {},
     "output_type": "execute_result"
    }
   ],
   "source": [
    "rgi_df.isnull().sum(axis=0)"
   ]
  },
  {
   "cell_type": "markdown",
   "id": "415fbba3",
   "metadata": {},
   "source": [
    "# Supraglacier Lakes"
   ]
  },
  {
   "cell_type": "code",
   "execution_count": 34,
   "id": "1b9f2688",
   "metadata": {
    "scrolled": false
   },
   "outputs": [
    {
     "data": {
      "text/html": [
       "<div>\n",
       "<style scoped>\n",
       "    .dataframe tbody tr th:only-of-type {\n",
       "        vertical-align: middle;\n",
       "    }\n",
       "\n",
       "    .dataframe tbody tr th {\n",
       "        vertical-align: top;\n",
       "    }\n",
       "\n",
       "    .dataframe thead th {\n",
       "        text-align: right;\n",
       "    }\n",
       "</style>\n",
       "<table border=\"1\" class=\"dataframe\">\n",
       "  <thead>\n",
       "    <tr style=\"text-align: right;\">\n",
       "      <th></th>\n",
       "      <th>rgi_id</th>\n",
       "      <th>glacial_lake</th>\n",
       "    </tr>\n",
       "  </thead>\n",
       "  <tbody>\n",
       "    <tr>\n",
       "      <th>0</th>\n",
       "      <td>RGI60-13.00001</td>\n",
       "      <td>1.0</td>\n",
       "    </tr>\n",
       "    <tr>\n",
       "      <th>1</th>\n",
       "      <td>RGI60-13.00002</td>\n",
       "      <td>0.0</td>\n",
       "    </tr>\n",
       "    <tr>\n",
       "      <th>2</th>\n",
       "      <td>RGI60-13.00003</td>\n",
       "      <td>0.0</td>\n",
       "    </tr>\n",
       "    <tr>\n",
       "      <th>3</th>\n",
       "      <td>RGI60-13.00004</td>\n",
       "      <td>0.0</td>\n",
       "    </tr>\n",
       "    <tr>\n",
       "      <th>4</th>\n",
       "      <td>RGI60-13.00005</td>\n",
       "      <td>0.0</td>\n",
       "    </tr>\n",
       "    <tr>\n",
       "      <th>...</th>\n",
       "      <td>...</td>\n",
       "      <td>...</td>\n",
       "    </tr>\n",
       "    <tr>\n",
       "      <th>95929</th>\n",
       "      <td>RGI60-15.13115</td>\n",
       "      <td>1.0</td>\n",
       "    </tr>\n",
       "    <tr>\n",
       "      <th>95930</th>\n",
       "      <td>RGI60-15.13116</td>\n",
       "      <td>0.0</td>\n",
       "    </tr>\n",
       "    <tr>\n",
       "      <th>95931</th>\n",
       "      <td>RGI60-15.13117</td>\n",
       "      <td>0.0</td>\n",
       "    </tr>\n",
       "    <tr>\n",
       "      <th>95932</th>\n",
       "      <td>RGI60-15.13118</td>\n",
       "      <td>0.0</td>\n",
       "    </tr>\n",
       "    <tr>\n",
       "      <th>95933</th>\n",
       "      <td>RGI60-15.13119</td>\n",
       "      <td>0.0</td>\n",
       "    </tr>\n",
       "  </tbody>\n",
       "</table>\n",
       "<p>95934 rows × 2 columns</p>\n",
       "</div>"
      ],
      "text/plain": [
       "               rgi_id  glacial_lake\n",
       "0      RGI60-13.00001           1.0\n",
       "1      RGI60-13.00002           0.0\n",
       "2      RGI60-13.00003           0.0\n",
       "3      RGI60-13.00004           0.0\n",
       "4      RGI60-13.00005           0.0\n",
       "...               ...           ...\n",
       "95929  RGI60-15.13115           1.0\n",
       "95930  RGI60-15.13116           0.0\n",
       "95931  RGI60-15.13117           0.0\n",
       "95932  RGI60-15.13118           0.0\n",
       "95933  RGI60-15.13119           0.0\n",
       "\n",
       "[95934 rows x 2 columns]"
      ]
     },
     "execution_count": 34,
     "metadata": {},
     "output_type": "execute_result"
    }
   ],
   "source": [
    "lakes = lakes_dat.rename(columns={\"RGIId\": \"rgi_id\"})\n",
    "lakes = lakes[['rgi_id']]\n",
    "lakes['glacial_lake'] = 1\n",
    "lakes = rgi_df.merge(lakes, on = 'rgi_id', how = 'outer')\n",
    "lakes = lakes[['rgi_id','glacial_lake']].fillna(0)\n",
    "lakes"
   ]
  },
  {
   "cell_type": "code",
   "execution_count": 35,
   "id": "0e884741",
   "metadata": {},
   "outputs": [
    {
     "data": {
      "text/plain": [
       "rgi_id          0\n",
       "glacial_lake    0\n",
       "dtype: int64"
      ]
     },
     "execution_count": 35,
     "metadata": {},
     "output_type": "execute_result"
    }
   ],
   "source": [
    "lakes.isnull().sum(axis=0)"
   ]
  },
  {
   "cell_type": "markdown",
   "id": "4b9b3d6c",
   "metadata": {},
   "source": [
    "# Ice Thickness"
   ]
  },
  {
   "cell_type": "code",
   "execution_count": 36,
   "id": "563e4b04",
   "metadata": {},
   "outputs": [
    {
     "data": {
      "text/html": [
       "<div>\n",
       "<style scoped>\n",
       "    .dataframe tbody tr th:only-of-type {\n",
       "        vertical-align: middle;\n",
       "    }\n",
       "\n",
       "    .dataframe tbody tr th {\n",
       "        vertical-align: top;\n",
       "    }\n",
       "\n",
       "    .dataframe thead th {\n",
       "        text-align: right;\n",
       "    }\n",
       "</style>\n",
       "<table border=\"1\" class=\"dataframe\">\n",
       "  <thead>\n",
       "    <tr style=\"text-align: right;\">\n",
       "      <th></th>\n",
       "      <th>Unnamed: 0</th>\n",
       "      <th>rgi_id</th>\n",
       "      <th>ice_thickness</th>\n",
       "    </tr>\n",
       "  </thead>\n",
       "  <tbody>\n",
       "    <tr>\n",
       "      <th>0</th>\n",
       "      <td>0</td>\n",
       "      <td>RGI60-13.00001</td>\n",
       "      <td>33.668630</td>\n",
       "    </tr>\n",
       "    <tr>\n",
       "      <th>1</th>\n",
       "      <td>1</td>\n",
       "      <td>RGI60-13.00002</td>\n",
       "      <td>39.834972</td>\n",
       "    </tr>\n",
       "    <tr>\n",
       "      <th>2</th>\n",
       "      <td>2</td>\n",
       "      <td>RGI60-13.00003</td>\n",
       "      <td>14.957049</td>\n",
       "    </tr>\n",
       "    <tr>\n",
       "      <th>3</th>\n",
       "      <td>3</td>\n",
       "      <td>RGI60-13.00004</td>\n",
       "      <td>23.991674</td>\n",
       "    </tr>\n",
       "    <tr>\n",
       "      <th>4</th>\n",
       "      <td>4</td>\n",
       "      <td>RGI60-13.00005</td>\n",
       "      <td>20.455612</td>\n",
       "    </tr>\n",
       "    <tr>\n",
       "      <th>...</th>\n",
       "      <td>...</td>\n",
       "      <td>...</td>\n",
       "      <td>...</td>\n",
       "    </tr>\n",
       "    <tr>\n",
       "      <th>95529</th>\n",
       "      <td>95529</td>\n",
       "      <td>RGI60-15.13115</td>\n",
       "      <td>36.147495</td>\n",
       "    </tr>\n",
       "    <tr>\n",
       "      <th>95530</th>\n",
       "      <td>95530</td>\n",
       "      <td>RGI60-15.13116</td>\n",
       "      <td>90.726250</td>\n",
       "    </tr>\n",
       "    <tr>\n",
       "      <th>95531</th>\n",
       "      <td>95531</td>\n",
       "      <td>RGI60-15.13117</td>\n",
       "      <td>110.223430</td>\n",
       "    </tr>\n",
       "    <tr>\n",
       "      <th>95532</th>\n",
       "      <td>95532</td>\n",
       "      <td>RGI60-15.13118</td>\n",
       "      <td>14.799946</td>\n",
       "    </tr>\n",
       "    <tr>\n",
       "      <th>95533</th>\n",
       "      <td>95533</td>\n",
       "      <td>RGI60-15.13119</td>\n",
       "      <td>12.369187</td>\n",
       "    </tr>\n",
       "  </tbody>\n",
       "</table>\n",
       "<p>95534 rows × 3 columns</p>\n",
       "</div>"
      ],
      "text/plain": [
       "       Unnamed: 0          rgi_id  ice_thickness\n",
       "0               0  RGI60-13.00001      33.668630\n",
       "1               1  RGI60-13.00002      39.834972\n",
       "2               2  RGI60-13.00003      14.957049\n",
       "3               3  RGI60-13.00004      23.991674\n",
       "4               4  RGI60-13.00005      20.455612\n",
       "...           ...             ...            ...\n",
       "95529       95529  RGI60-15.13115      36.147495\n",
       "95530       95530  RGI60-15.13116      90.726250\n",
       "95531       95531  RGI60-15.13117     110.223430\n",
       "95532       95532  RGI60-15.13118      14.799946\n",
       "95533       95533  RGI60-15.13119      12.369187\n",
       "\n",
       "[95534 rows x 3 columns]"
      ]
     },
     "execution_count": 36,
     "metadata": {},
     "output_type": "execute_result"
    }
   ],
   "source": [
    "ice_thickness_dat"
   ]
  },
  {
   "cell_type": "code",
   "execution_count": 37,
   "id": "0cbe564f",
   "metadata": {
    "scrolled": true
   },
   "outputs": [],
   "source": [
    "ice_thickness_dat = ice_thickness_dat[['rgi_id','ice_thickness']]"
   ]
  },
  {
   "cell_type": "code",
   "execution_count": 38,
   "id": "7a4ee402",
   "metadata": {
    "scrolled": true
   },
   "outputs": [
    {
     "data": {
      "text/html": [
       "<div>\n",
       "<style scoped>\n",
       "    .dataframe tbody tr th:only-of-type {\n",
       "        vertical-align: middle;\n",
       "    }\n",
       "\n",
       "    .dataframe tbody tr th {\n",
       "        vertical-align: top;\n",
       "    }\n",
       "\n",
       "    .dataframe thead th {\n",
       "        text-align: right;\n",
       "    }\n",
       "</style>\n",
       "<table border=\"1\" class=\"dataframe\">\n",
       "  <thead>\n",
       "    <tr style=\"text-align: right;\">\n",
       "      <th></th>\n",
       "      <th>rgi_id</th>\n",
       "      <th>ice_thickness</th>\n",
       "    </tr>\n",
       "  </thead>\n",
       "  <tbody>\n",
       "    <tr>\n",
       "      <th>95529</th>\n",
       "      <td>RGI60-15.13115</td>\n",
       "      <td>36.147495</td>\n",
       "    </tr>\n",
       "    <tr>\n",
       "      <th>95530</th>\n",
       "      <td>RGI60-15.13116</td>\n",
       "      <td>90.726250</td>\n",
       "    </tr>\n",
       "    <tr>\n",
       "      <th>95531</th>\n",
       "      <td>RGI60-15.13117</td>\n",
       "      <td>110.223430</td>\n",
       "    </tr>\n",
       "    <tr>\n",
       "      <th>95532</th>\n",
       "      <td>RGI60-15.13118</td>\n",
       "      <td>14.799946</td>\n",
       "    </tr>\n",
       "    <tr>\n",
       "      <th>95533</th>\n",
       "      <td>RGI60-15.13119</td>\n",
       "      <td>12.369187</td>\n",
       "    </tr>\n",
       "  </tbody>\n",
       "</table>\n",
       "</div>"
      ],
      "text/plain": [
       "               rgi_id  ice_thickness\n",
       "95529  RGI60-15.13115      36.147495\n",
       "95530  RGI60-15.13116      90.726250\n",
       "95531  RGI60-15.13117     110.223430\n",
       "95532  RGI60-15.13118      14.799946\n",
       "95533  RGI60-15.13119      12.369187"
      ]
     },
     "execution_count": 38,
     "metadata": {},
     "output_type": "execute_result"
    }
   ],
   "source": [
    "ice_thickness_dat.tail()"
   ]
  },
  {
   "cell_type": "code",
   "execution_count": 39,
   "id": "fd0eda92",
   "metadata": {},
   "outputs": [
    {
     "data": {
      "text/plain": [
       "rgi_id           0\n",
       "ice_thickness    0\n",
       "dtype: int64"
      ]
     },
     "execution_count": 39,
     "metadata": {},
     "output_type": "execute_result"
    }
   ],
   "source": [
    "ice_thickness_dat.isnull().sum(axis=0)"
   ]
  },
  {
   "cell_type": "markdown",
   "id": "0066fe4d",
   "metadata": {},
   "source": [
    "# Dataframe "
   ]
  },
  {
   "cell_type": "code",
   "execution_count": 40,
   "id": "3421d091",
   "metadata": {},
   "outputs": [],
   "source": [
    "## climate_stat\n",
    "# glacier_stat HOEFT NIET \n",
    "## huggonet_dat & climate_historical = merge-clim_huggo\n",
    "## ice_thickness_dat  \n",
    "## debris_dat # only contains dat >0.4 km2 \n",
    "## lakes\n",
    "## rgi_df"
   ]
  },
  {
   "cell_type": "code",
   "execution_count": 41,
   "id": "75746c60",
   "metadata": {},
   "outputs": [],
   "source": [
    "# join\n",
    "# huggonet: rgiid & period\n",
    "# climate_historical: rgi_id & time \n",
    "\n",
    "merge_clim_huggo = pd.merge(huggonet_dat,climate_historical, on=['rgi_id','period'])"
   ]
  },
  {
   "cell_type": "code",
   "execution_count": 42,
   "id": "03fe465a",
   "metadata": {
    "scrolled": true
   },
   "outputs": [
    {
     "data": {
      "text/plain": [
       "rgi_id       0\n",
       "period       0\n",
       "dmdtda    3722\n",
       "dvoldt    3722\n",
       "dhdt      3722\n",
       "prcp         0\n",
       "temp         0\n",
       "dtype: int64"
      ]
     },
     "execution_count": 42,
     "metadata": {},
     "output_type": "execute_result"
    }
   ],
   "source": [
    "merge_clim_huggo.isnull().sum(axis=0)"
   ]
  },
  {
   "cell_type": "code",
   "execution_count": 43,
   "id": "037fddb2",
   "metadata": {},
   "outputs": [
    {
     "data": {
      "text/plain": [
       "0.019479567911572602"
      ]
     },
     "execution_count": 43,
     "metadata": {},
     "output_type": "execute_result"
    }
   ],
   "source": [
    "merge_clim_huggo['dvoldt'].isnull().sum(axis=0)/len(merge_clim_huggo['dvoldt'])"
   ]
  },
  {
   "cell_type": "code",
   "execution_count": 44,
   "id": "5d71917d",
   "metadata": {},
   "outputs": [
    {
     "data": {
      "text/plain": [
       "((95536, 3), (95536, 2), (191072, 7), (95534, 2), (33587, 3), (95536, 9))"
      ]
     },
     "execution_count": 44,
     "metadata": {},
     "output_type": "execute_result"
    }
   ],
   "source": [
    "(climate_stat.shape, glacier_stat.shape, merge_clim_huggo.shape,ice_thickness_dat.shape, debris_dat.shape, rgi_df.shape)\n"
   ]
  },
  {
   "cell_type": "code",
   "execution_count": 45,
   "id": "64a1beb8",
   "metadata": {
    "scrolled": true
   },
   "outputs": [
    {
     "data": {
      "text/plain": [
       "(191068, 18)"
      ]
     },
     "execution_count": 45,
     "metadata": {},
     "output_type": "execute_result"
    }
   ],
   "source": [
    "df = merge_clim_huggo.merge(climate_stat,on='rgi_id',how='inner').merge(rgi_df, on='rgi_id',how='inner').merge(ice_thickness_dat, on = 'rgi_id', how='inner')\n",
    "df.shape"
   ]
  },
  {
   "cell_type": "code",
   "execution_count": 46,
   "id": "c673e28e",
   "metadata": {},
   "outputs": [
    {
     "data": {
      "text/plain": [
       "(191068, 18)"
      ]
     },
     "execution_count": 46,
     "metadata": {},
     "output_type": "execute_result"
    }
   ],
   "source": [
    "df_all = df.merge(lakes, on = 'rgi_id', how= 'outer')\n",
    "df.shape"
   ]
  },
  {
   "cell_type": "code",
   "execution_count": 47,
   "id": "4e033e39",
   "metadata": {},
   "outputs": [],
   "source": [
    "df_all = df"
   ]
  },
  {
   "cell_type": "code",
   "execution_count": 48,
   "id": "426097ca",
   "metadata": {},
   "outputs": [
    {
     "data": {
      "text/plain": [
       "(67174, 18)"
      ]
     },
     "execution_count": 48,
     "metadata": {},
     "output_type": "execute_result"
    }
   ],
   "source": [
    "df = df[df['Area'] > 0.4]\n",
    "df.shape"
   ]
  },
  {
   "cell_type": "code",
   "execution_count": 49,
   "id": "10ac36e0",
   "metadata": {
    "scrolled": false
   },
   "outputs": [
    {
     "data": {
      "text/plain": [
       "(67174, 20)"
      ]
     },
     "execution_count": 49,
     "metadata": {},
     "output_type": "execute_result"
    }
   ],
   "source": [
    "df = df.merge(debris_dat, on='rgi_id',how='outer')\n",
    "df.shape"
   ]
  },
  {
   "cell_type": "code",
   "execution_count": 50,
   "id": "58eb7f83",
   "metadata": {},
   "outputs": [],
   "source": [
    "df = df[df['Area'] > 2]"
   ]
  },
  {
   "cell_type": "code",
   "execution_count": 51,
   "id": "ba15a3b7",
   "metadata": {},
   "outputs": [
    {
     "data": {
      "text/html": [
       "<div>\n",
       "<style scoped>\n",
       "    .dataframe tbody tr th:only-of-type {\n",
       "        vertical-align: middle;\n",
       "    }\n",
       "\n",
       "    .dataframe tbody tr th {\n",
       "        vertical-align: top;\n",
       "    }\n",
       "\n",
       "    .dataframe thead th {\n",
       "        text-align: right;\n",
       "    }\n",
       "</style>\n",
       "<table border=\"1\" class=\"dataframe\">\n",
       "  <thead>\n",
       "    <tr style=\"text-align: right;\">\n",
       "      <th></th>\n",
       "      <th>rgi_id</th>\n",
       "      <th>period</th>\n",
       "      <th>dmdtda</th>\n",
       "      <th>dvoldt</th>\n",
       "      <th>dhdt</th>\n",
       "      <th>prcp</th>\n",
       "      <th>temp</th>\n",
       "      <th>tstar_aar</th>\n",
       "      <th>tstar_ela_h</th>\n",
       "      <th>O2Region</th>\n",
       "      <th>Slope</th>\n",
       "      <th>Aspect</th>\n",
       "      <th>Lmax</th>\n",
       "      <th>Area</th>\n",
       "      <th>Zmax</th>\n",
       "      <th>Zmin</th>\n",
       "      <th>Zmed</th>\n",
       "      <th>ice_thickness</th>\n",
       "      <th>debris_vol_ela_p</th>\n",
       "      <th>debris_area_ela_p</th>\n",
       "    </tr>\n",
       "  </thead>\n",
       "  <tbody>\n",
       "    <tr>\n",
       "      <th>42</th>\n",
       "      <td>RGI60-13.00062</td>\n",
       "      <td>2000-01-01_2010-01-01</td>\n",
       "      <td>0.2511</td>\n",
       "      <td>656305.0</td>\n",
       "      <td>0.2954</td>\n",
       "      <td>2662.2944</td>\n",
       "      <td>-13.254577</td>\n",
       "      <td>0.622839</td>\n",
       "      <td>5777.281395</td>\n",
       "      <td>5</td>\n",
       "      <td>21.5</td>\n",
       "      <td>358</td>\n",
       "      <td>1532</td>\n",
       "      <td>2.222</td>\n",
       "      <td>6011</td>\n",
       "      <td>5417</td>\n",
       "      <td>5839</td>\n",
       "      <td>47.280240</td>\n",
       "      <td>0.063558</td>\n",
       "      <td>3.950617</td>\n",
       "    </tr>\n",
       "    <tr>\n",
       "      <th>43</th>\n",
       "      <td>RGI60-13.00062</td>\n",
       "      <td>2010-01-01_2020-01-01</td>\n",
       "      <td>-0.1517</td>\n",
       "      <td>-396462.0</td>\n",
       "      <td>-0.1784</td>\n",
       "      <td>2571.0835</td>\n",
       "      <td>-13.101825</td>\n",
       "      <td>0.622839</td>\n",
       "      <td>5777.281395</td>\n",
       "      <td>5</td>\n",
       "      <td>21.5</td>\n",
       "      <td>358</td>\n",
       "      <td>1532</td>\n",
       "      <td>2.222</td>\n",
       "      <td>6011</td>\n",
       "      <td>5417</td>\n",
       "      <td>5839</td>\n",
       "      <td>47.280240</td>\n",
       "      <td>0.063558</td>\n",
       "      <td>3.950617</td>\n",
       "    </tr>\n",
       "    <tr>\n",
       "      <th>58</th>\n",
       "      <td>RGI60-13.00093</td>\n",
       "      <td>2000-01-01_2010-01-01</td>\n",
       "      <td>0.3403</td>\n",
       "      <td>808356.0</td>\n",
       "      <td>0.4004</td>\n",
       "      <td>2471.3232</td>\n",
       "      <td>-14.763111</td>\n",
       "      <td>0.349641</td>\n",
       "      <td>5766.503904</td>\n",
       "      <td>5</td>\n",
       "      <td>25.6</td>\n",
       "      <td>50</td>\n",
       "      <td>1219</td>\n",
       "      <td>2.019</td>\n",
       "      <td>6095</td>\n",
       "      <td>5432</td>\n",
       "      <td>5795</td>\n",
       "      <td>31.963816</td>\n",
       "      <td>0.384015</td>\n",
       "      <td>2.211302</td>\n",
       "    </tr>\n",
       "    <tr>\n",
       "      <th>59</th>\n",
       "      <td>RGI60-13.00093</td>\n",
       "      <td>2010-01-01_2020-01-01</td>\n",
       "      <td>-0.2084</td>\n",
       "      <td>-494898.0</td>\n",
       "      <td>-0.2451</td>\n",
       "      <td>2483.2847</td>\n",
       "      <td>-14.639121</td>\n",
       "      <td>0.349641</td>\n",
       "      <td>5766.503904</td>\n",
       "      <td>5</td>\n",
       "      <td>25.6</td>\n",
       "      <td>50</td>\n",
       "      <td>1219</td>\n",
       "      <td>2.019</td>\n",
       "      <td>6095</td>\n",
       "      <td>5432</td>\n",
       "      <td>5795</td>\n",
       "      <td>31.963816</td>\n",
       "      <td>0.384015</td>\n",
       "      <td>2.211302</td>\n",
       "    </tr>\n",
       "    <tr>\n",
       "      <th>74</th>\n",
       "      <td>RGI60-13.00130</td>\n",
       "      <td>2000-01-01_2010-01-01</td>\n",
       "      <td>0.2993</td>\n",
       "      <td>858801.0</td>\n",
       "      <td>0.3521</td>\n",
       "      <td>2471.3232</td>\n",
       "      <td>-14.763111</td>\n",
       "      <td>0.482537</td>\n",
       "      <td>5864.392600</td>\n",
       "      <td>5</td>\n",
       "      <td>26.4</td>\n",
       "      <td>346</td>\n",
       "      <td>2145</td>\n",
       "      <td>2.439</td>\n",
       "      <td>6308</td>\n",
       "      <td>5428</td>\n",
       "      <td>5864</td>\n",
       "      <td>36.834835</td>\n",
       "      <td>0.018882</td>\n",
       "      <td>1.470588</td>\n",
       "    </tr>\n",
       "    <tr>\n",
       "      <th>...</th>\n",
       "      <td>...</td>\n",
       "      <td>...</td>\n",
       "      <td>...</td>\n",
       "      <td>...</td>\n",
       "      <td>...</td>\n",
       "      <td>...</td>\n",
       "      <td>...</td>\n",
       "      <td>...</td>\n",
       "      <td>...</td>\n",
       "      <td>...</td>\n",
       "      <td>...</td>\n",
       "      <td>...</td>\n",
       "      <td>...</td>\n",
       "      <td>...</td>\n",
       "      <td>...</td>\n",
       "      <td>...</td>\n",
       "      <td>...</td>\n",
       "      <td>...</td>\n",
       "      <td>...</td>\n",
       "      <td>...</td>\n",
       "    </tr>\n",
       "    <tr>\n",
       "      <th>67167</th>\n",
       "      <td>RGI60-15.13104</td>\n",
       "      <td>2010-01-01_2020-01-01</td>\n",
       "      <td>-0.3959</td>\n",
       "      <td>-10575925.0</td>\n",
       "      <td>-0.4658</td>\n",
       "      <td>7035.4336</td>\n",
       "      <td>-10.042706</td>\n",
       "      <td>0.551624</td>\n",
       "      <td>5805.561280</td>\n",
       "      <td>1</td>\n",
       "      <td>12.2</td>\n",
       "      <td>341</td>\n",
       "      <td>11899</td>\n",
       "      <td>22.704</td>\n",
       "      <td>6752</td>\n",
       "      <td>5235</td>\n",
       "      <td>5834</td>\n",
       "      <td>109.057915</td>\n",
       "      <td>13.621900</td>\n",
       "      <td>20.432626</td>\n",
       "    </tr>\n",
       "    <tr>\n",
       "      <th>67170</th>\n",
       "      <td>RGI60-15.13116</td>\n",
       "      <td>2010-01-01_2020-01-01</td>\n",
       "      <td>-0.8608</td>\n",
       "      <td>-7521207.0</td>\n",
       "      <td>-1.0127</td>\n",
       "      <td>9643.4520</td>\n",
       "      <td>-7.883843</td>\n",
       "      <td>0.537703</td>\n",
       "      <td>5613.211517</td>\n",
       "      <td>1</td>\n",
       "      <td>8.9</td>\n",
       "      <td>330</td>\n",
       "      <td>5779</td>\n",
       "      <td>7.427</td>\n",
       "      <td>6232</td>\n",
       "      <td>5266</td>\n",
       "      <td>5633</td>\n",
       "      <td>90.726250</td>\n",
       "      <td>0.523140</td>\n",
       "      <td>6.750241</td>\n",
       "    </tr>\n",
       "    <tr>\n",
       "      <th>67171</th>\n",
       "      <td>RGI60-15.13116</td>\n",
       "      <td>2000-01-01_2010-01-01</td>\n",
       "      <td>-0.8456</td>\n",
       "      <td>-7388231.0</td>\n",
       "      <td>-0.9948</td>\n",
       "      <td>9380.2680</td>\n",
       "      <td>-8.199018</td>\n",
       "      <td>0.537703</td>\n",
       "      <td>5613.211517</td>\n",
       "      <td>1</td>\n",
       "      <td>8.9</td>\n",
       "      <td>330</td>\n",
       "      <td>5779</td>\n",
       "      <td>7.427</td>\n",
       "      <td>6232</td>\n",
       "      <td>5266</td>\n",
       "      <td>5633</td>\n",
       "      <td>90.726250</td>\n",
       "      <td>0.523140</td>\n",
       "      <td>6.750241</td>\n",
       "    </tr>\n",
       "    <tr>\n",
       "      <th>67172</th>\n",
       "      <td>RGI60-15.13117</td>\n",
       "      <td>2000-01-01_2010-01-01</td>\n",
       "      <td>-0.5257</td>\n",
       "      <td>-4198006.0</td>\n",
       "      <td>-0.6184</td>\n",
       "      <td>4942.9070</td>\n",
       "      <td>-5.594553</td>\n",
       "      <td>0.580946</td>\n",
       "      <td>5977.445401</td>\n",
       "      <td>1</td>\n",
       "      <td>6.3</td>\n",
       "      <td>96</td>\n",
       "      <td>5519</td>\n",
       "      <td>6.788</td>\n",
       "      <td>6147</td>\n",
       "      <td>5696</td>\n",
       "      <td>5994</td>\n",
       "      <td>110.223430</td>\n",
       "      <td>0.011779</td>\n",
       "      <td>0.450007</td>\n",
       "    </tr>\n",
       "    <tr>\n",
       "      <th>67173</th>\n",
       "      <td>RGI60-15.13117</td>\n",
       "      <td>2010-01-01_2020-01-01</td>\n",
       "      <td>-0.5364</td>\n",
       "      <td>-4283279.0</td>\n",
       "      <td>-0.6310</td>\n",
       "      <td>5144.9110</td>\n",
       "      <td>-4.920659</td>\n",
       "      <td>0.580946</td>\n",
       "      <td>5977.445401</td>\n",
       "      <td>1</td>\n",
       "      <td>6.3</td>\n",
       "      <td>96</td>\n",
       "      <td>5519</td>\n",
       "      <td>6.788</td>\n",
       "      <td>6147</td>\n",
       "      <td>5696</td>\n",
       "      <td>5994</td>\n",
       "      <td>110.223430</td>\n",
       "      <td>0.011779</td>\n",
       "      <td>0.450007</td>\n",
       "    </tr>\n",
       "  </tbody>\n",
       "</table>\n",
       "<p>16198 rows × 20 columns</p>\n",
       "</div>"
      ],
      "text/plain": [
       "               rgi_id                 period  dmdtda      dvoldt    dhdt  \\\n",
       "42     RGI60-13.00062  2000-01-01_2010-01-01  0.2511    656305.0  0.2954   \n",
       "43     RGI60-13.00062  2010-01-01_2020-01-01 -0.1517   -396462.0 -0.1784   \n",
       "58     RGI60-13.00093  2000-01-01_2010-01-01  0.3403    808356.0  0.4004   \n",
       "59     RGI60-13.00093  2010-01-01_2020-01-01 -0.2084   -494898.0 -0.2451   \n",
       "74     RGI60-13.00130  2000-01-01_2010-01-01  0.2993    858801.0  0.3521   \n",
       "...               ...                    ...     ...         ...     ...   \n",
       "67167  RGI60-15.13104  2010-01-01_2020-01-01 -0.3959 -10575925.0 -0.4658   \n",
       "67170  RGI60-15.13116  2010-01-01_2020-01-01 -0.8608  -7521207.0 -1.0127   \n",
       "67171  RGI60-15.13116  2000-01-01_2010-01-01 -0.8456  -7388231.0 -0.9948   \n",
       "67172  RGI60-15.13117  2000-01-01_2010-01-01 -0.5257  -4198006.0 -0.6184   \n",
       "67173  RGI60-15.13117  2010-01-01_2020-01-01 -0.5364  -4283279.0 -0.6310   \n",
       "\n",
       "            prcp       temp  tstar_aar  tstar_ela_h O2Region  Slope  Aspect  \\\n",
       "42     2662.2944 -13.254577   0.622839  5777.281395        5   21.5     358   \n",
       "43     2571.0835 -13.101825   0.622839  5777.281395        5   21.5     358   \n",
       "58     2471.3232 -14.763111   0.349641  5766.503904        5   25.6      50   \n",
       "59     2483.2847 -14.639121   0.349641  5766.503904        5   25.6      50   \n",
       "74     2471.3232 -14.763111   0.482537  5864.392600        5   26.4     346   \n",
       "...          ...        ...        ...          ...      ...    ...     ...   \n",
       "67167  7035.4336 -10.042706   0.551624  5805.561280        1   12.2     341   \n",
       "67170  9643.4520  -7.883843   0.537703  5613.211517        1    8.9     330   \n",
       "67171  9380.2680  -8.199018   0.537703  5613.211517        1    8.9     330   \n",
       "67172  4942.9070  -5.594553   0.580946  5977.445401        1    6.3      96   \n",
       "67173  5144.9110  -4.920659   0.580946  5977.445401        1    6.3      96   \n",
       "\n",
       "        Lmax    Area  Zmax  Zmin  Zmed  ice_thickness  debris_vol_ela_p  \\\n",
       "42      1532   2.222  6011  5417  5839      47.280240          0.063558   \n",
       "43      1532   2.222  6011  5417  5839      47.280240          0.063558   \n",
       "58      1219   2.019  6095  5432  5795      31.963816          0.384015   \n",
       "59      1219   2.019  6095  5432  5795      31.963816          0.384015   \n",
       "74      2145   2.439  6308  5428  5864      36.834835          0.018882   \n",
       "...      ...     ...   ...   ...   ...            ...               ...   \n",
       "67167  11899  22.704  6752  5235  5834     109.057915         13.621900   \n",
       "67170   5779   7.427  6232  5266  5633      90.726250          0.523140   \n",
       "67171   5779   7.427  6232  5266  5633      90.726250          0.523140   \n",
       "67172   5519   6.788  6147  5696  5994     110.223430          0.011779   \n",
       "67173   5519   6.788  6147  5696  5994     110.223430          0.011779   \n",
       "\n",
       "       debris_area_ela_p  \n",
       "42              3.950617  \n",
       "43              3.950617  \n",
       "58              2.211302  \n",
       "59              2.211302  \n",
       "74              1.470588  \n",
       "...                  ...  \n",
       "67167          20.432626  \n",
       "67170           6.750241  \n",
       "67171           6.750241  \n",
       "67172           0.450007  \n",
       "67173           0.450007  \n",
       "\n",
       "[16198 rows x 20 columns]"
      ]
     },
     "execution_count": 51,
     "metadata": {},
     "output_type": "execute_result"
    }
   ],
   "source": [
    "df"
   ]
  },
  {
   "cell_type": "markdown",
   "id": "534ed89d",
   "metadata": {},
   "source": [
    "# General stats"
   ]
  },
  {
   "cell_type": "markdown",
   "id": "4b2fc3f2",
   "metadata": {},
   "source": [
    "Justify deleting all glaciers <0.4km2"
   ]
  },
  {
   "cell_type": "code",
   "execution_count": 57,
   "id": "d9c1ea03",
   "metadata": {
    "scrolled": true
   },
   "outputs": [],
   "source": [
    "df1 = rgi_df.merge(ice_thickness_dat, on = 'rgi_id', how = 'inner')"
   ]
  },
  {
   "cell_type": "code",
   "execution_count": 58,
   "id": "56930096",
   "metadata": {},
   "outputs": [],
   "source": [
    "df1[\"volume\"] = df1[\"Area\"] * df1[\"ice_thickness\"]"
   ]
  },
  {
   "cell_type": "code",
   "execution_count": 59,
   "id": "e8539eef",
   "metadata": {},
   "outputs": [
    {
     "data": {
      "text/plain": [
       "8.47761006552641"
      ]
     },
     "execution_count": 59,
     "metadata": {},
     "output_type": "execute_result"
    }
   ],
   "source": [
    "# count percentage of all glaicer >0.4\n",
    "(len(df1[df1['Area']> 2])/len(df1))*100"
   ]
  },
  {
   "cell_type": "code",
   "execution_count": 60,
   "id": "e54419b6",
   "metadata": {},
   "outputs": [
    {
     "data": {
      "text/plain": [
       "91.52029643896414"
      ]
     },
     "execution_count": 60,
     "metadata": {},
     "output_type": "execute_result"
    }
   ],
   "source": [
    "# count percentage of all glacier <0.4\n",
    "(len(df1[df1['Area']<2])/len(df1)) *100"
   ]
  },
  {
   "cell_type": "code",
   "execution_count": 61,
   "id": "def7444e",
   "metadata": {},
   "outputs": [
    {
     "data": {
      "text/plain": [
       "86.38387386123219"
      ]
     },
     "execution_count": 61,
     "metadata": {},
     "output_type": "execute_result"
    }
   ],
   "source": [
    "# volume percentage of all glaciers >0.4 km2\n",
    "(df1[df1['Area'] > 2]['volume'].sum()/(df1['volume'].sum()))*100"
   ]
  },
  {
   "cell_type": "code",
   "execution_count": 62,
   "id": "c69778fe",
   "metadata": {
    "scrolled": true
   },
   "outputs": [
    {
     "data": {
      "text/plain": [
       "13.613219894605086"
      ]
     },
     "execution_count": 62,
     "metadata": {},
     "output_type": "execute_result"
    }
   ],
   "source": [
    "# volume percentage of all glaciers > 0.4 km2\n",
    "(df1[df1['Area'] < 2]['volume'].sum()/(df1['volume'].sum()))*100"
   ]
  }
 ],
 "metadata": {
  "kernelspec": {
   "display_name": "Python 3",
   "language": "python",
   "name": "python3"
  },
  "language_info": {
   "codemirror_mode": {
    "name": "ipython",
    "version": 3
   },
   "file_extension": ".py",
   "mimetype": "text/x-python",
   "name": "python",
   "nbconvert_exporter": "python",
   "pygments_lexer": "ipython3",
   "version": "3.8.8"
  }
 },
 "nbformat": 4,
 "nbformat_minor": 5
}
